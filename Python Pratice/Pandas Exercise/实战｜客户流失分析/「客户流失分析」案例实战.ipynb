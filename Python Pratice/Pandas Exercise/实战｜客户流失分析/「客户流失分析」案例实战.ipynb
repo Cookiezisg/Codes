{
 "cells": [
  {
   "cell_type": "markdown",
   "metadata": {},
   "source": [
    "# pandas 进阶修炼 ｜早起Python\n",
    "<br>\n",
    "\n",
    "**pandas进阶修炼系列由公众号【早起Python & 可视化图鉴】 原创**\n",
    "\n",
    "**转载及其他形式合作请与我们联系（微信号`sshs321`)，未经授权严禁搬运及二次创作，侵权必究！**\n",
    "\n",
    "\n",
    "本习题基于 `pandas` 版本 `1.1.3`，所有内容应当在 `Jupyter Notebook` 中执行以获得最佳效果。\n",
    "\n",
    "不同版本之间写法可能会有少许不同，如若碰到此情况，你应该学会如何自行检索解决。"
   ]
  },
  {
   "cell_type": "markdown",
   "metadata": {},
   "source": [
    "## 实战｜客户流失分析\n",
    "\n",
    "\n",
    "\n",
    "<br>\n",
    "\n",
    "\n",
    "**<font color = '#5172F0'><font size=3.5>必读👇👇👇</font>**\n",
    "    \n",
    "**本习题微信公众号「<font color ='#F77802'>数据STUDIO</font>」号主云朵君友情提供，授权公众号「早起Python」二次整理发布**\n",
    "\n",
    "    \n",
    "### 项目目的\n",
    "\n",
    "深入了解用户画像及行为偏好，挖掘出影响用户流失的关键因素，并通过算法预测客户访问的转化结果，从而更好地完善产品设计、提升用户体验！\n",
    "\n",
    "### 数据说明\n",
    "\n",
    "此次数据是携程用户一周的访问数据，为保护客户隐私，已经将数据经过了脱敏，和实际商品的订单量、浏览量、转化率等有一些差距，不影响问题的可解性。\n",
    "\n",
    "### 案例说明\n",
    "\n",
    "分类信息app，通过数据挖掘分析影响用户流失的关键因素、深入了解用户行为偏好以此做出调整，提升客户留存率，增强客户黏性，并通过随机森林算法预测客户流失，通过特征创造使模型分数提高2个百分点。\n",
    "\n",
    "### 项目内容\n",
    "探索数据分布，缺失情况，针对性的进行缺失值填补，对于缺失较少的重要特征选择随机森林缺失填补法，使用3sigma、箱型图分析等对异常值进行处理，对分类型变量进行编码。\n",
    "\n",
    "使用方差过滤、F检验过滤掉一部分特征，进行WOE分箱，对每个特征分箱结果进行可视化，分析每个特征分箱情况并以此分析 用户行为偏好，使用各个特征的IV值进一步筛选特征。\n",
    "\n",
    "训练随机森林模型，模型调参、评估，输出模型，以此模型对用户流失进行预测，以便针对性地挽留用户。训练逻辑回归模型，通过其算法可解释性强的特点(特征系数)来对用户流失关键因素进行阐述。\n",
    "\n",
    "本次案例分析仅展示数据清洗、特征工程及建模（随机森林分类模型）部分。完整案例可参见原文。\n",
    "\n",
    "![p1.png](./picture/p1.png)\n",
    "\n",
    "  \n",
    "    \n",
    "**<font color = '#5172F0'><font size=3.5>更多资源👇👇👇</font>**   \n",
    "    \n",
    "如果需要获得与本案例更多的资源，可以微信搜索公众号「<font color ='#F77802'>数据STUDIO</font>」关注，或者点击下方文章链接查看！\n",
    "\n",
    "- [分享一个能够写在简历里的企业级数据挖掘实战项目](https://mp.weixin.qq.com/s/X4b0pTrv8_6WItM1ZmHyKg)"
   ]
  },
  {
   "cell_type": "markdown",
   "metadata": {},
   "source": [
    "**<font color = '#5172F0'><font size=3.5>注意事项👇👇👇</font>**  \n",
    "    \n",
    "**注意1**：为了尽可能还原一次真实的数据分析项目，在食用本notebook时，可能会出现我们没有提示（解决方案）的报错，你应学会如何自行解决！\n",
    "\n",
    "**注意2**：由于本案例后半部分涉及内容大多为机器学习相关，因此将不做习题使用，提供用于pandas操作练习的部分仅到20题为止！\n",
    "   \n",
    "**注意3**：为了尽可能让大家理解题意，我将保留每一题的运行结果，该结果仅供参考，只要完成题目要求，在样式和文字上无需保持一致！"
   ]
  },
  {
   "cell_type": "markdown",
   "metadata": {},
   "source": [
    "## 初始化\n",
    "\n",
    "<br>\n",
    "\n",
    "该 `Notebook` 版本为**纯习题版**\n",
    "\n",
    "如果需要答案或者提示，可以微信搜索公众号「早起Python」获取！"
   ]
  },
  {
   "cell_type": "markdown",
   "metadata": {},
   "source": [
    "## 数据导入与探索性分析"
   ]
  },
  {
   "cell_type": "markdown",
   "metadata": {
    "id": "W1hcMkbFQypB"
   },
   "source": [
    "### 导入依赖包\n",
    "\n",
    "执行以下代码来导入本项目使用到的相关库\n",
    "\n",
    "**如果有任何导入相关的错误，大概率是因为你没有安装，根据报错提示使用 pip 安装即可。**\n",
    "\n",
    "**导入库相关的问题不应在知识星球或者微信群进行提问！**"
   ]
  },
  {
   "cell_type": "code",
   "execution_count": 1,
   "metadata": {},
   "outputs": [],
   "source": [
    "import pandas as pd\n",
    "import numpy as np\n",
    "import matplotlib.pyplot as plt\n",
    "import seaborn as sns\n",
    "from time import time\n",
    "import datetime # 计时器\n",
    "from sklearn.model_selection import train_test_split\n",
    "from sklearn.feature_selection import f_classif\n",
    "from sklearn.ensemble import RandomForestClassifier as RFC\n",
    "from sklearn.feature_selection import SelectFromModel\n",
    "from sklearn.model_selection import cross_val_score\n",
    "from sklearn.feature_selection import VarianceThreshold\n",
    "%matplotlib inline\n",
    "\n",
    "plt.rcParams['font.family'] = ['Arial Unicode MS']#显示中文,解决图中无法显示中文的问题\n",
    "plt.rcParams['axes.unicode_minus']=False"
   ]
  },
  {
   "cell_type": "markdown",
   "metadata": {},
   "source": [
    "### 1 -  导入数据\n",
    "\n",
    "导入当前目录下 `userlostprob.txt`"
   ]
  },
  {
   "cell_type": "code",
   "execution_count": 3,
   "metadata": {},
   "outputs": [],
   "source": []
  },
  {
   "cell_type": "markdown",
   "metadata": {},
   "source": [
    "### 2 - 数据查看"
   ]
  },
  {
   "cell_type": "markdown",
   "metadata": {},
   "source": [
    "查看数据前几行"
   ]
  },
  {
   "cell_type": "code",
   "execution_count": null,
   "metadata": {},
   "outputs": [],
   "source": []
  },
  {
   "cell_type": "markdown",
   "metadata": {},
   "source": [
    "### 3 - 数据查看"
   ]
  },
  {
   "cell_type": "markdown",
   "metadata": {},
   "source": [
    "查看数据尾部5行"
   ]
  },
  {
   "cell_type": "code",
   "execution_count": null,
   "metadata": {},
   "outputs": [],
   "source": []
  },
  {
   "cell_type": "markdown",
   "metadata": {},
   "source": [
    "### 4 - 数据抽样"
   ]
  },
  {
   "cell_type": "markdown",
   "metadata": {},
   "source": [
    "随机查看 5 条数据样本"
   ]
  },
  {
   "cell_type": "code",
   "execution_count": null,
   "metadata": {},
   "outputs": [],
   "source": []
  },
  {
   "cell_type": "markdown",
   "metadata": {},
   "source": [
    "### 5 - 数据查看\n",
    "\n",
    "\n",
    "查看数据形状"
   ]
  },
  {
   "cell_type": "code",
   "execution_count": 7,
   "metadata": {},
   "outputs": [
    {
     "data": {
      "text/plain": [
       "(689945, 51)"
      ]
     },
     "execution_count": 7,
     "metadata": {},
     "output_type": "execute_result"
    }
   ],
   "source": []
  },
  {
   "cell_type": "markdown",
   "metadata": {},
   "source": [
    "### 6 - 数据检查"
   ]
  },
  {
   "cell_type": "markdown",
   "metadata": {},
   "source": [
    "检查数据类型"
   ]
  },
  {
   "cell_type": "code",
   "execution_count": null,
   "metadata": {},
   "outputs": [],
   "source": []
  },
  {
   "cell_type": "markdown",
   "metadata": {},
   "source": [
    "### 7 - 数据查看\n",
    "\n",
    "查看数据基本信息"
   ]
  },
  {
   "cell_type": "code",
   "execution_count": null,
   "metadata": {},
   "outputs": [],
   "source": []
  },
  {
   "cell_type": "markdown",
   "metadata": {},
   "source": [
    "### 8 - 数据查看\n",
    "\n",
    "查看数据的其他的一些信息（列索引与数据大小）"
   ]
  },
  {
   "cell_type": "code",
   "execution_count": 10,
   "metadata": {},
   "outputs": [
    {
     "data": {
      "text/plain": [
       "35187195"
      ]
     },
     "execution_count": 10,
     "metadata": {},
     "output_type": "execute_result"
    }
   ],
   "source": []
  },
  {
   "cell_type": "markdown",
   "metadata": {},
   "source": [
    "### 9 - 数据统计\n",
    "\n",
    "查看数据的描述性统计"
   ]
  },
  {
   "cell_type": "code",
   "execution_count": null,
   "metadata": {},
   "outputs": [],
   "source": []
  },
  {
   "cell_type": "markdown",
   "metadata": {},
   "source": [
    "### 10 - 数据统计\n",
    "\n",
    "按照行计算平均值"
   ]
  },
  {
   "cell_type": "code",
   "execution_count": null,
   "metadata": {},
   "outputs": [],
   "source": []
  },
  {
   "cell_type": "markdown",
   "metadata": {},
   "source": [
    "## 数据清洗\n",
    "数据清洗主要包括去除重复值、处理缺失值、处理异常值、⽣成衍生变量等操作。其中处理顺序根据实际处理过程涉及的问题而定，这里的顺序仅供参考。"
   ]
  },
  {
   "cell_type": "markdown",
   "metadata": {},
   "source": [
    "### 11 - 处理重复值\n",
    "\n",
    "对于一般模型影响不大，但对于回归模型⽽言，容易导致回归系数标准误降低，使得对应p值减⼩。重复值过多，样本随机误差降低，造成参数的贡献程度会被高估。本案例没有重复值，可以略过。"
   ]
  },
  {
   "cell_type": "code",
   "execution_count": 13,
   "metadata": {},
   "outputs": [
    {
     "data": {
      "text/plain": [
       "(689945, 51)"
      ]
     },
     "execution_count": 13,
     "metadata": {},
     "output_type": "execute_result"
    }
   ],
   "source": []
  },
  {
   "cell_type": "markdown",
   "metadata": {},
   "source": [
    "### 12 - 缺失值查看"
   ]
  },
  {
   "cell_type": "markdown",
   "metadata": {},
   "source": [
    "**查看缺失值比例，并排序**"
   ]
  },
  {
   "cell_type": "code",
   "execution_count": 70,
   "metadata": {},
   "outputs": [],
   "source": []
  },
  {
   "cell_type": "markdown",
   "metadata": {},
   "source": [
    "### 13 - 数据可视化\n",
    "使用密度图可视化数据缺失比"
   ]
  },
  {
   "cell_type": "code",
   "execution_count": 16,
   "metadata": {},
   "outputs": [
    {
     "data": {
      "text/plain": [
       "<AxesSubplot:xlabel='缺失比', ylabel='Density'>"
      ]
     },
     "execution_count": 16,
     "metadata": {},
     "output_type": "execute_result"
    },
    {
     "data": {
      "image/png": "[encoded data removed]",
      "text/plain": [
       "<Figure size 576x432 with 1 Axes>"
      ]
     },
     "metadata": {
      "needs_background": "light"
     },
     "output_type": "display_data"
    }
   ],
   "source": []
  },
  {
   "cell_type": "markdown",
   "metadata": {},
   "source": [
    "### 14 - 数据可视化\n",
    "\n",
    "使用条形图可视化缺失值"
   ]
  },
  {
   "cell_type": "code",
   "execution_count": 17,
   "metadata": {},
   "outputs": [
    {
     "data": {
      "image/png": "[encoded data removed]",
      "text/plain": [
       "<Figure size 576x432 with 1 Axes>"
      ]
     },
     "metadata": {
      "needs_background": "light"
     },
     "output_type": "display_data"
    }
   ],
   "source": []
  },
  {
   "cell_type": "markdown",
   "metadata": {},
   "source": [
    "### 15 - 修改索引\n",
    "\n",
    "将 null 的索引设置为 特征，列名为缺失比"
   ]
  },
  {
   "cell_type": "code",
   "execution_count": 18,
   "metadata": {
    "scrolled": true
   },
   "outputs": [
    {
     "data": {
      "text/html": [
       "<div>\n",
       "<style scoped>\n",
       "    .dataframe tbody tr th:only-of-type {\n",
       "        vertical-align: middle;\n",
       "    }\n",
       "\n",
       "    .dataframe tbody tr th {\n",
       "        vertical-align: top;\n",
       "    }\n",
       "\n",
       "    .dataframe thead th {\n",
       "        text-align: right;\n",
       "    }\n",
       "</style>\n",
       "<table border=\"1\" class=\"dataframe\">\n",
       "  <thead>\n",
       "    <tr style=\"text-align: right;\">\n",
       "      <th></th>\n",
       "      <th>缺失比</th>\n",
       "    </tr>\n",
       "    <tr>\n",
       "      <th>特征</th>\n",
       "      <th></th>\n",
       "    </tr>\n",
       "  </thead>\n",
       "  <tbody>\n",
       "    <tr>\n",
       "      <th>label</th>\n",
       "      <td>0.000000</td>\n",
       "    </tr>\n",
       "    <tr>\n",
       "      <th>sid</th>\n",
       "      <td>0.000000</td>\n",
       "    </tr>\n",
       "    <tr>\n",
       "      <th>iforderpv_24h</th>\n",
       "      <td>0.000000</td>\n",
       "    </tr>\n",
       "    <tr>\n",
       "      <th>h</th>\n",
       "      <td>0.000000</td>\n",
       "    </tr>\n",
       "    <tr>\n",
       "      <th>d</th>\n",
       "      <td>0.000000</td>\n",
       "    </tr>\n",
       "    <tr>\n",
       "      <th>sampleid</th>\n",
       "      <td>0.000000</td>\n",
       "    </tr>\n",
       "    <tr>\n",
       "      <th>arrival</th>\n",
       "      <td>0.000000</td>\n",
       "    </tr>\n",
       "    <tr>\n",
       "      <th>hotelcr</th>\n",
       "      <td>0.001155</td>\n",
       "    </tr>\n",
       "    <tr>\n",
       "      <th>hoteluv</th>\n",
       "      <td>0.001155</td>\n",
       "    </tr>\n",
       "    <tr>\n",
       "      <th>lowestprice</th>\n",
       "      <td>0.002919</td>\n",
       "    </tr>\n",
       "    <tr>\n",
       "      <th>cityuvs</th>\n",
       "      <td>0.011118</td>\n",
       "    </tr>\n",
       "    <tr>\n",
       "      <th>cancelrate</th>\n",
       "      <td>0.016984</td>\n",
       "    </tr>\n",
       "    <tr>\n",
       "      <th>novoters</th>\n",
       "      <td>0.024679</td>\n",
       "    </tr>\n",
       "    <tr>\n",
       "      <th>customereval_pre2</th>\n",
       "      <td>0.041500</td>\n",
       "    </tr>\n",
       "    <tr>\n",
       "      <th>landhalfhours</th>\n",
       "      <td>0.041500</td>\n",
       "    </tr>\n",
       "    <tr>\n",
       "      <th>uv_pre2</th>\n",
       "      <td>0.041679</td>\n",
       "    </tr>\n",
       "    <tr>\n",
       "      <th>lowestprice_pre2</th>\n",
       "      <td>0.042440</td>\n",
       "    </tr>\n",
       "    <tr>\n",
       "      <th>uv_pre</th>\n",
       "      <td>0.042608</td>\n",
       "    </tr>\n",
       "    <tr>\n",
       "      <th>cr_pre</th>\n",
       "      <td>0.042608</td>\n",
       "    </tr>\n",
       "    <tr>\n",
       "      <th>lowestprice_pre</th>\n",
       "      <td>0.043853</td>\n",
       "    </tr>\n",
       "    <tr>\n",
       "      <th>novoters_pre2</th>\n",
       "      <td>0.046857</td>\n",
       "    </tr>\n",
       "    <tr>\n",
       "      <th>cancelrate_pre</th>\n",
       "      <td>0.053526</td>\n",
       "    </tr>\n",
       "    <tr>\n",
       "      <th>cityorders</th>\n",
       "      <td>0.056065</td>\n",
       "    </tr>\n",
       "    <tr>\n",
       "      <th>novoters_pre</th>\n",
       "      <td>0.059409</td>\n",
       "    </tr>\n",
       "    <tr>\n",
       "      <th>commentnums_pre2</th>\n",
       "      <td>0.060132</td>\n",
       "    </tr>\n",
       "    <tr>\n",
       "      <th>commentnums</th>\n",
       "      <td>0.098437</td>\n",
       "    </tr>\n",
       "    <tr>\n",
       "      <th>businessrate_pre2</th>\n",
       "      <td>0.126075</td>\n",
       "    </tr>\n",
       "    <tr>\n",
       "      <th>commentnums_pre</th>\n",
       "      <td>0.132731</td>\n",
       "    </tr>\n",
       "    <tr>\n",
       "      <th>visitnum_oneyear</th>\n",
       "      <td>0.140642</td>\n",
       "    </tr>\n",
       "    <tr>\n",
       "      <th>lastpvgap</th>\n",
       "      <td>0.140775</td>\n",
       "    </tr>\n",
       "    <tr>\n",
       "      <th>deltaprice_pre2_t1</th>\n",
       "      <td>0.212720</td>\n",
       "    </tr>\n",
       "    <tr>\n",
       "      <th>businessrate_pre</th>\n",
       "      <td>0.298646</td>\n",
       "    </tr>\n",
       "    <tr>\n",
       "      <th>starprefer</th>\n",
       "      <td>0.326190</td>\n",
       "    </tr>\n",
       "    <tr>\n",
       "      <th>price_sensitive</th>\n",
       "      <td>0.327719</td>\n",
       "    </tr>\n",
       "    <tr>\n",
       "      <th>consuming_capacity</th>\n",
       "      <td>0.327719</td>\n",
       "    </tr>\n",
       "    <tr>\n",
       "      <th>cr</th>\n",
       "      <td>0.336330</td>\n",
       "    </tr>\n",
       "    <tr>\n",
       "      <th>avgprice</th>\n",
       "      <td>0.337250</td>\n",
       "    </tr>\n",
       "    <tr>\n",
       "      <th>ordernum_oneyear</th>\n",
       "      <td>0.350918</td>\n",
       "    </tr>\n",
       "    <tr>\n",
       "      <th>lasthtlordergap</th>\n",
       "      <td>0.350918</td>\n",
       "    </tr>\n",
       "    <tr>\n",
       "      <th>ordercanncelednum</th>\n",
       "      <td>0.350918</td>\n",
       "    </tr>\n",
       "    <tr>\n",
       "      <th>ordercanceledprecent</th>\n",
       "      <td>0.350918</td>\n",
       "    </tr>\n",
       "    <tr>\n",
       "      <th>ctrip_profits</th>\n",
       "      <td>0.354750</td>\n",
       "    </tr>\n",
       "    <tr>\n",
       "      <th>customer_value_profit</th>\n",
       "      <td>0.363539</td>\n",
       "    </tr>\n",
       "    <tr>\n",
       "      <th>delta_price2</th>\n",
       "      <td>0.365529</td>\n",
       "    </tr>\n",
       "    <tr>\n",
       "      <th>delta_price1</th>\n",
       "      <td>0.366405</td>\n",
       "    </tr>\n",
       "    <tr>\n",
       "      <th>historyvisit_avghotelnum</th>\n",
       "      <td>0.437816</td>\n",
       "    </tr>\n",
       "    <tr>\n",
       "      <th>historyvisit_totalordernum</th>\n",
       "      <td>0.439774</td>\n",
       "    </tr>\n",
       "    <tr>\n",
       "      <th>decisionhabit_user</th>\n",
       "      <td>0.441332</td>\n",
       "    </tr>\n",
       "    <tr>\n",
       "      <th>firstorder_bu</th>\n",
       "      <td>0.453590</td>\n",
       "    </tr>\n",
       "    <tr>\n",
       "      <th>historyvisit_visit_detailpagenum</th>\n",
       "      <td>0.554698</td>\n",
       "    </tr>\n",
       "    <tr>\n",
       "      <th>historyvisit_7ordernum</th>\n",
       "      <td>0.879824</td>\n",
       "    </tr>\n",
       "  </tbody>\n",
       "</table>\n",
       "</div>"
      ],
      "text/plain": [
       "                                       缺失比\n",
       "特征                                        \n",
       "label                             0.000000\n",
       "sid                               0.000000\n",
       "iforderpv_24h                     0.000000\n",
       "h                                 0.000000\n",
       "d                                 0.000000\n",
       "sampleid                          0.000000\n",
       "arrival                           0.000000\n",
       "hotelcr                           0.001155\n",
       "hoteluv                           0.001155\n",
       "lowestprice                       0.002919\n",
       "cityuvs                           0.011118\n",
       "cancelrate                        0.016984\n",
       "novoters                          0.024679\n",
       "customereval_pre2                 0.041500\n",
       "landhalfhours                     0.041500\n",
       "uv_pre2                           0.041679\n",
       "lowestprice_pre2                  0.042440\n",
       "uv_pre                            0.042608\n",
       "cr_pre                            0.042608\n",
       "lowestprice_pre                   0.043853\n",
       "novoters_pre2                     0.046857\n",
       "cancelrate_pre                    0.053526\n",
       "cityorders                        0.056065\n",
       "novoters_pre                      0.059409\n",
       "commentnums_pre2                  0.060132\n",
       "commentnums                       0.098437\n",
       "businessrate_pre2                 0.126075\n",
       "commentnums_pre                   0.132731\n",
       "visitnum_oneyear                  0.140642\n",
       "lastpvgap                         0.140775\n",
       "deltaprice_pre2_t1                0.212720\n",
       "businessrate_pre                  0.298646\n",
       "starprefer                        0.326190\n",
       "price_sensitive                   0.327719\n",
       "consuming_capacity                0.327719\n",
       "cr                                0.336330\n",
       "avgprice                          0.337250\n",
       "ordernum_oneyear                  0.350918\n",
       "lasthtlordergap                   0.350918\n",
       "ordercanncelednum                 0.350918\n",
       "ordercanceledprecent              0.350918\n",
       "ctrip_profits                     0.354750\n",
       "customer_value_profit             0.363539\n",
       "delta_price2                      0.365529\n",
       "delta_price1                      0.366405\n",
       "historyvisit_avghotelnum          0.437816\n",
       "historyvisit_totalordernum        0.439774\n",
       "decisionhabit_user                0.441332\n",
       "firstorder_bu                     0.453590\n",
       "historyvisit_visit_detailpagenum  0.554698\n",
       "historyvisit_7ordernum            0.879824"
      ]
     },
     "execution_count": 18,
     "metadata": {},
     "output_type": "execute_result"
    }
   ],
   "source": []
  },
  {
   "cell_type": "markdown",
   "metadata": {},
   "source": [
    "### 16 - 数据删除\n",
    "\n",
    "\n",
    "**删除缺失比例为0.879824**的列"
   ]
  },
  {
   "cell_type": "code",
   "execution_count": 21,
   "metadata": {},
   "outputs": [],
   "source": []
  },
  {
   "cell_type": "code",
   "execution_count": null,
   "metadata": {},
   "outputs": [],
   "source": []
  },
  {
   "cell_type": "markdown",
   "metadata": {},
   "source": [
    "### 17 - 异常值处理\n",
    "\n",
    "首先处理异常值，最低酒店定价有小于0的，有等于1的值，明显属于异常值。异常值处理方法较多，常见有直接删除，当缺失值处理等等\n",
    "\n",
    "本例中，我们用盖帽法处理此异常值。"
   ]
  },
  {
   "cell_type": "code",
   "execution_count": 22,
   "metadata": {
    "scrolled": true
   },
   "outputs": [
    {
     "data": {
      "text/html": [
       "<div>\n",
       "<style scoped>\n",
       "    .dataframe tbody tr th:only-of-type {\n",
       "        vertical-align: middle;\n",
       "    }\n",
       "\n",
       "    .dataframe tbody tr th {\n",
       "        vertical-align: top;\n",
       "    }\n",
       "\n",
       "    .dataframe thead th {\n",
       "        text-align: right;\n",
       "    }\n",
       "</style>\n",
       "<table border=\"1\" class=\"dataframe\">\n",
       "  <thead>\n",
       "    <tr style=\"text-align: right;\">\n",
       "      <th></th>\n",
       "      <th>count</th>\n",
       "      <th>unique</th>\n",
       "      <th>top</th>\n",
       "      <th>freq</th>\n",
       "      <th>mean</th>\n",
       "      <th>std</th>\n",
       "      <th>min</th>\n",
       "      <th>1%</th>\n",
       "      <th>25%</th>\n",
       "      <th>50%</th>\n",
       "      <th>75%</th>\n",
       "      <th>99%</th>\n",
       "      <th>max</th>\n",
       "    </tr>\n",
       "  </thead>\n",
       "  <tbody>\n",
       "    <tr>\n",
       "      <th>label</th>\n",
       "      <td>689945</td>\n",
       "      <td>NaN</td>\n",
       "      <td>NaN</td>\n",
       "      <td>NaN</td>\n",
       "      <td>0.274452</td>\n",
       "      <td>0.446238</td>\n",
       "      <td>0</td>\n",
       "      <td>0</td>\n",
       "      <td>0</td>\n",
       "      <td>0</td>\n",
       "      <td>1</td>\n",
       "      <td>1</td>\n",
       "      <td>1</td>\n",
       "    </tr>\n",
       "    <tr>\n",
       "      <th>sampleid</th>\n",
       "      <td>689945</td>\n",
       "      <td>NaN</td>\n",
       "      <td>NaN</td>\n",
       "      <td>NaN</td>\n",
       "      <td>628540</td>\n",
       "      <td>414681</td>\n",
       "      <td>24636</td>\n",
       "      <td>36205.9</td>\n",
       "      <td>312320</td>\n",
       "      <td>599637</td>\n",
       "      <td>887460</td>\n",
       "      <td>2.22689e+06</td>\n",
       "      <td>2.23843e+06</td>\n",
       "    </tr>\n",
       "    <tr>\n",
       "      <th>d</th>\n",
       "      <td>689945</td>\n",
       "      <td>7</td>\n",
       "      <td>2016-05-20</td>\n",
       "      <td>111985</td>\n",
       "      <td>NaN</td>\n",
       "      <td>NaN</td>\n",
       "      <td>NaN</td>\n",
       "      <td>NaN</td>\n",
       "      <td>NaN</td>\n",
       "      <td>NaN</td>\n",
       "      <td>NaN</td>\n",
       "      <td>NaN</td>\n",
       "      <td>NaN</td>\n",
       "    </tr>\n",
       "    <tr>\n",
       "      <th>arrival</th>\n",
       "      <td>689945</td>\n",
       "      <td>37</td>\n",
       "      <td>2016-05-20</td>\n",
       "      <td>110982</td>\n",
       "      <td>NaN</td>\n",
       "      <td>NaN</td>\n",
       "      <td>NaN</td>\n",
       "      <td>NaN</td>\n",
       "      <td>NaN</td>\n",
       "      <td>NaN</td>\n",
       "      <td>NaN</td>\n",
       "      <td>NaN</td>\n",
       "      <td>NaN</td>\n",
       "    </tr>\n",
       "    <tr>\n",
       "      <th>iforderpv_24h</th>\n",
       "      <td>689945</td>\n",
       "      <td>NaN</td>\n",
       "      <td>NaN</td>\n",
       "      <td>NaN</td>\n",
       "      <td>0.193737</td>\n",
       "      <td>0.395226</td>\n",
       "      <td>0</td>\n",
       "      <td>0</td>\n",
       "      <td>0</td>\n",
       "      <td>0</td>\n",
       "      <td>0</td>\n",
       "      <td>1</td>\n",
       "      <td>1</td>\n",
       "    </tr>\n",
       "    <tr>\n",
       "      <th>decisionhabit_user</th>\n",
       "      <td>385450</td>\n",
       "      <td>NaN</td>\n",
       "      <td>NaN</td>\n",
       "      <td>NaN</td>\n",
       "      <td>5.31705</td>\n",
       "      <td>38.5245</td>\n",
       "      <td>0</td>\n",
       "      <td>1</td>\n",
       "      <td>2</td>\n",
       "      <td>3</td>\n",
       "      <td>5</td>\n",
       "      <td>27</td>\n",
       "      <td>3167</td>\n",
       "    </tr>\n",
       "    <tr>\n",
       "      <th>historyvisit_totalordernum</th>\n",
       "      <td>386525</td>\n",
       "      <td>NaN</td>\n",
       "      <td>NaN</td>\n",
       "      <td>NaN</td>\n",
       "      <td>11.7105</td>\n",
       "      <td>17.2514</td>\n",
       "      <td>1</td>\n",
       "      <td>1</td>\n",
       "      <td>2</td>\n",
       "      <td>6</td>\n",
       "      <td>14</td>\n",
       "      <td>82</td>\n",
       "      <td>711</td>\n",
       "    </tr>\n",
       "    <tr>\n",
       "      <th>hotelcr</th>\n",
       "      <td>689148</td>\n",
       "      <td>NaN</td>\n",
       "      <td>NaN</td>\n",
       "      <td>NaN</td>\n",
       "      <td>1.061</td>\n",
       "      <td>0.0452643</td>\n",
       "      <td>1</td>\n",
       "      <td>1</td>\n",
       "      <td>1.03</td>\n",
       "      <td>1.05</td>\n",
       "      <td>1.09</td>\n",
       "      <td>1.19</td>\n",
       "      <td>3.18</td>\n",
       "    </tr>\n",
       "    <tr>\n",
       "      <th>ordercanceledprecent</th>\n",
       "      <td>447831</td>\n",
       "      <td>NaN</td>\n",
       "      <td>NaN</td>\n",
       "      <td>NaN</td>\n",
       "      <td>0.342119</td>\n",
       "      <td>0.35421</td>\n",
       "      <td>0</td>\n",
       "      <td>0</td>\n",
       "      <td>0</td>\n",
       "      <td>0.25</td>\n",
       "      <td>0.57</td>\n",
       "      <td>1</td>\n",
       "      <td>1</td>\n",
       "    </tr>\n",
       "    <tr>\n",
       "      <th>landhalfhours</th>\n",
       "      <td>661312</td>\n",
       "      <td>NaN</td>\n",
       "      <td>NaN</td>\n",
       "      <td>NaN</td>\n",
       "      <td>6.08637</td>\n",
       "      <td>12.4132</td>\n",
       "      <td>0</td>\n",
       "      <td>0</td>\n",
       "      <td>0</td>\n",
       "      <td>0</td>\n",
       "      <td>4</td>\n",
       "      <td>48</td>\n",
       "      <td>49</td>\n",
       "    </tr>\n",
       "    <tr>\n",
       "      <th>ordercanncelednum</th>\n",
       "      <td>447831</td>\n",
       "      <td>NaN</td>\n",
       "      <td>NaN</td>\n",
       "      <td>NaN</td>\n",
       "      <td>154.179</td>\n",
       "      <td>398.457</td>\n",
       "      <td>0</td>\n",
       "      <td>0</td>\n",
       "      <td>0</td>\n",
       "      <td>2</td>\n",
       "      <td>153</td>\n",
       "      <td>1752</td>\n",
       "      <td>13475</td>\n",
       "    </tr>\n",
       "    <tr>\n",
       "      <th>commentnums</th>\n",
       "      <td>622029</td>\n",
       "      <td>NaN</td>\n",
       "      <td>NaN</td>\n",
       "      <td>NaN</td>\n",
       "      <td>1272.09</td>\n",
       "      <td>2101.87</td>\n",
       "      <td>0</td>\n",
       "      <td>1</td>\n",
       "      <td>115</td>\n",
       "      <td>514</td>\n",
       "      <td>1670</td>\n",
       "      <td>8796</td>\n",
       "      <td>34189</td>\n",
       "    </tr>\n",
       "    <tr>\n",
       "      <th>starprefer</th>\n",
       "      <td>464892</td>\n",
       "      <td>NaN</td>\n",
       "      <td>NaN</td>\n",
       "      <td>NaN</td>\n",
       "      <td>67.5323</td>\n",
       "      <td>19.1751</td>\n",
       "      <td>0</td>\n",
       "      <td>20</td>\n",
       "      <td>53.3</td>\n",
       "      <td>69.4</td>\n",
       "      <td>80.3</td>\n",
       "      <td>100</td>\n",
       "      <td>100</td>\n",
       "    </tr>\n",
       "    <tr>\n",
       "      <th>novoters</th>\n",
       "      <td>672918</td>\n",
       "      <td>NaN</td>\n",
       "      <td>NaN</td>\n",
       "      <td>NaN</td>\n",
       "      <td>1706.25</td>\n",
       "      <td>2811.69</td>\n",
       "      <td>1</td>\n",
       "      <td>1</td>\n",
       "      <td>157</td>\n",
       "      <td>692</td>\n",
       "      <td>2196</td>\n",
       "      <td>11576</td>\n",
       "      <td>45455</td>\n",
       "    </tr>\n",
       "    <tr>\n",
       "      <th>consuming_capacity</th>\n",
       "      <td>463837</td>\n",
       "      <td>NaN</td>\n",
       "      <td>NaN</td>\n",
       "      <td>NaN</td>\n",
       "      <td>39.1541</td>\n",
       "      <td>23.2401</td>\n",
       "      <td>0</td>\n",
       "      <td>8</td>\n",
       "      <td>22</td>\n",
       "      <td>33</td>\n",
       "      <td>51</td>\n",
       "      <td>100</td>\n",
       "      <td>100</td>\n",
       "    </tr>\n",
       "    <tr>\n",
       "      <th>historyvisit_avghotelnum</th>\n",
       "      <td>387876</td>\n",
       "      <td>NaN</td>\n",
       "      <td>NaN</td>\n",
       "      <td>NaN</td>\n",
       "      <td>6.51018</td>\n",
       "      <td>41.0453</td>\n",
       "      <td>0</td>\n",
       "      <td>1</td>\n",
       "      <td>2</td>\n",
       "      <td>4</td>\n",
       "      <td>7</td>\n",
       "      <td>29</td>\n",
       "      <td>3167</td>\n",
       "    </tr>\n",
       "    <tr>\n",
       "      <th>cancelrate</th>\n",
       "      <td>678227</td>\n",
       "      <td>NaN</td>\n",
       "      <td>NaN</td>\n",
       "      <td>NaN</td>\n",
       "      <td>1051.6</td>\n",
       "      <td>1509.07</td>\n",
       "      <td>1</td>\n",
       "      <td>2</td>\n",
       "      <td>137</td>\n",
       "      <td>503</td>\n",
       "      <td>1373</td>\n",
       "      <td>6399</td>\n",
       "      <td>18930</td>\n",
       "    </tr>\n",
       "    <tr>\n",
       "      <th>historyvisit_visit_detailpagenum</th>\n",
       "      <td>307234</td>\n",
       "      <td>NaN</td>\n",
       "      <td>NaN</td>\n",
       "      <td>NaN</td>\n",
       "      <td>37.1536</td>\n",
       "      <td>73.4029</td>\n",
       "      <td>1</td>\n",
       "      <td>1</td>\n",
       "      <td>6</td>\n",
       "      <td>18</td>\n",
       "      <td>44</td>\n",
       "      <td>262</td>\n",
       "      <td>6199</td>\n",
       "    </tr>\n",
       "    <tr>\n",
       "      <th>delta_price1</th>\n",
       "      <td>437146</td>\n",
       "      <td>NaN</td>\n",
       "      <td>NaN</td>\n",
       "      <td>NaN</td>\n",
       "      <td>79.067</td>\n",
       "      <td>512.943</td>\n",
       "      <td>-99879</td>\n",
       "      <td>-1227.55</td>\n",
       "      <td>-31</td>\n",
       "      <td>81</td>\n",
       "      <td>226</td>\n",
       "      <td>1081</td>\n",
       "      <td>5398</td>\n",
       "    </tr>\n",
       "    <tr>\n",
       "      <th>price_sensitive</th>\n",
       "      <td>463837</td>\n",
       "      <td>NaN</td>\n",
       "      <td>NaN</td>\n",
       "      <td>NaN</td>\n",
       "      <td>24.6459</td>\n",
       "      <td>26.6856</td>\n",
       "      <td>0</td>\n",
       "      <td>0</td>\n",
       "      <td>5</td>\n",
       "      <td>16</td>\n",
       "      <td>33</td>\n",
       "      <td>100</td>\n",
       "      <td>100</td>\n",
       "    </tr>\n",
       "    <tr>\n",
       "      <th>hoteluv</th>\n",
       "      <td>689148</td>\n",
       "      <td>NaN</td>\n",
       "      <td>NaN</td>\n",
       "      <td>NaN</td>\n",
       "      <td>95.0927</td>\n",
       "      <td>169.982</td>\n",
       "      <td>0.007</td>\n",
       "      <td>0.167</td>\n",
       "      <td>10.427</td>\n",
       "      <td>36.18</td>\n",
       "      <td>107.747</td>\n",
       "      <td>964.113</td>\n",
       "      <td>1722.61</td>\n",
       "    </tr>\n",
       "    <tr>\n",
       "      <th>businessrate_pre</th>\n",
       "      <td>483896</td>\n",
       "      <td>NaN</td>\n",
       "      <td>NaN</td>\n",
       "      <td>NaN</td>\n",
       "      <td>0.372717</td>\n",
       "      <td>0.232791</td>\n",
       "      <td>0</td>\n",
       "      <td>0.01</td>\n",
       "      <td>0.15</td>\n",
       "      <td>0.39</td>\n",
       "      <td>0.57</td>\n",
       "      <td>0.8</td>\n",
       "      <td>0.99</td>\n",
       "    </tr>\n",
       "    <tr>\n",
       "      <th>ordernum_oneyear</th>\n",
       "      <td>447831</td>\n",
       "      <td>NaN</td>\n",
       "      <td>NaN</td>\n",
       "      <td>NaN</td>\n",
       "      <td>11.6421</td>\n",
       "      <td>17.1372</td>\n",
       "      <td>1</td>\n",
       "      <td>1</td>\n",
       "      <td>2</td>\n",
       "      <td>6</td>\n",
       "      <td>14</td>\n",
       "      <td>81</td>\n",
       "      <td>711</td>\n",
       "    </tr>\n",
       "    <tr>\n",
       "      <th>cr_pre</th>\n",
       "      <td>660548</td>\n",
       "      <td>NaN</td>\n",
       "      <td>NaN</td>\n",
       "      <td>NaN</td>\n",
       "      <td>1.06291</td>\n",
       "      <td>0.0445878</td>\n",
       "      <td>1</td>\n",
       "      <td>1</td>\n",
       "      <td>1.03</td>\n",
       "      <td>1.06</td>\n",
       "      <td>1.09</td>\n",
       "      <td>1.19</td>\n",
       "      <td>2.95</td>\n",
       "    </tr>\n",
       "    <tr>\n",
       "      <th>avgprice</th>\n",
       "      <td>457261</td>\n",
       "      <td>NaN</td>\n",
       "      <td>NaN</td>\n",
       "      <td>NaN</td>\n",
       "      <td>422.459</td>\n",
       "      <td>290.853</td>\n",
       "      <td>1</td>\n",
       "      <td>91</td>\n",
       "      <td>232</td>\n",
       "      <td>350</td>\n",
       "      <td>524</td>\n",
       "      <td>1491</td>\n",
       "      <td>6383</td>\n",
       "    </tr>\n",
       "    <tr>\n",
       "      <th>lowestprice</th>\n",
       "      <td>687931</td>\n",
       "      <td>NaN</td>\n",
       "      <td>NaN</td>\n",
       "      <td>NaN</td>\n",
       "      <td>318.806</td>\n",
       "      <td>575.782</td>\n",
       "      <td>-3</td>\n",
       "      <td>37</td>\n",
       "      <td>116</td>\n",
       "      <td>200</td>\n",
       "      <td>380</td>\n",
       "      <td>1823</td>\n",
       "      <td>100000</td>\n",
       "    </tr>\n",
       "    <tr>\n",
       "      <th>firstorder_bu</th>\n",
       "      <td>376993</td>\n",
       "      <td>NaN</td>\n",
       "      <td>NaN</td>\n",
       "      <td>NaN</td>\n",
       "      <td>11.6978</td>\n",
       "      <td>2.74682</td>\n",
       "      <td>1</td>\n",
       "      <td>3</td>\n",
       "      <td>12</td>\n",
       "      <td>13</td>\n",
       "      <td>13</td>\n",
       "      <td>17</td>\n",
       "      <td>21</td>\n",
       "    </tr>\n",
       "    <tr>\n",
       "      <th>customereval_pre2</th>\n",
       "      <td>661312</td>\n",
       "      <td>NaN</td>\n",
       "      <td>NaN</td>\n",
       "      <td>NaN</td>\n",
       "      <td>3.04852</td>\n",
       "      <td>1.22664</td>\n",
       "      <td>0</td>\n",
       "      <td>0</td>\n",
       "      <td>2</td>\n",
       "      <td>3</td>\n",
       "      <td>4</td>\n",
       "      <td>5.5</td>\n",
       "      <td>6</td>\n",
       "    </tr>\n",
       "    <tr>\n",
       "      <th>delta_price2</th>\n",
       "      <td>437750</td>\n",
       "      <td>NaN</td>\n",
       "      <td>NaN</td>\n",
       "      <td>NaN</td>\n",
       "      <td>77.2772</td>\n",
       "      <td>391.414</td>\n",
       "      <td>-43344</td>\n",
       "      <td>-949</td>\n",
       "      <td>-29</td>\n",
       "      <td>69</td>\n",
       "      <td>198</td>\n",
       "      <td>1018</td>\n",
       "      <td>5114</td>\n",
       "    </tr>\n",
       "    <tr>\n",
       "      <th>commentnums_pre</th>\n",
       "      <td>598368</td>\n",
       "      <td>NaN</td>\n",
       "      <td>NaN</td>\n",
       "      <td>NaN</td>\n",
       "      <td>1415.16</td>\n",
       "      <td>2329.42</td>\n",
       "      <td>0</td>\n",
       "      <td>1</td>\n",
       "      <td>137</td>\n",
       "      <td>592</td>\n",
       "      <td>1862</td>\n",
       "      <td>9732</td>\n",
       "      <td>34189</td>\n",
       "    </tr>\n",
       "    <tr>\n",
       "      <th>customer_value_profit</th>\n",
       "      <td>439123</td>\n",
       "      <td>NaN</td>\n",
       "      <td>NaN</td>\n",
       "      <td>NaN</td>\n",
       "      <td>3.03841</td>\n",
       "      <td>6.62528</td>\n",
       "      <td>-24.075</td>\n",
       "      <td>-0.29678</td>\n",
       "      <td>0.269</td>\n",
       "      <td>0.991</td>\n",
       "      <td>3.138</td>\n",
       "      <td>28.451</td>\n",
       "      <td>598.064</td>\n",
       "    </tr>\n",
       "    <tr>\n",
       "      <th>commentnums_pre2</th>\n",
       "      <td>648457</td>\n",
       "      <td>NaN</td>\n",
       "      <td>NaN</td>\n",
       "      <td>NaN</td>\n",
       "      <td>1313.39</td>\n",
       "      <td>1719.51</td>\n",
       "      <td>0</td>\n",
       "      <td>3</td>\n",
       "      <td>270</td>\n",
       "      <td>768</td>\n",
       "      <td>1780</td>\n",
       "      <td>7457</td>\n",
       "      <td>34189</td>\n",
       "    </tr>\n",
       "    <tr>\n",
       "      <th>cancelrate_pre</th>\n",
       "      <td>653015</td>\n",
       "      <td>NaN</td>\n",
       "      <td>NaN</td>\n",
       "      <td>NaN</td>\n",
       "      <td>0.344422</td>\n",
       "      <td>0.179147</td>\n",
       "      <td>0</td>\n",
       "      <td>0.05</td>\n",
       "      <td>0.23</td>\n",
       "      <td>0.32</td>\n",
       "      <td>0.42</td>\n",
       "      <td>1</td>\n",
       "      <td>1</td>\n",
       "    </tr>\n",
       "    <tr>\n",
       "      <th>novoters_pre2</th>\n",
       "      <td>657616</td>\n",
       "      <td>NaN</td>\n",
       "      <td>NaN</td>\n",
       "      <td>NaN</td>\n",
       "      <td>1787.2</td>\n",
       "      <td>2316.71</td>\n",
       "      <td>1</td>\n",
       "      <td>5</td>\n",
       "      <td>391</td>\n",
       "      <td>1054</td>\n",
       "      <td>2413</td>\n",
       "      <td>10018</td>\n",
       "      <td>45436</td>\n",
       "    </tr>\n",
       "    <tr>\n",
       "      <th>novoters_pre</th>\n",
       "      <td>648956</td>\n",
       "      <td>NaN</td>\n",
       "      <td>NaN</td>\n",
       "      <td>NaN</td>\n",
       "      <td>1890.7</td>\n",
       "      <td>3116.12</td>\n",
       "      <td>1</td>\n",
       "      <td>2</td>\n",
       "      <td>187</td>\n",
       "      <td>783</td>\n",
       "      <td>2453</td>\n",
       "      <td>13839</td>\n",
       "      <td>45436</td>\n",
       "    </tr>\n",
       "    <tr>\n",
       "      <th>ctrip_profits</th>\n",
       "      <td>445187</td>\n",
       "      <td>NaN</td>\n",
       "      <td>NaN</td>\n",
       "      <td>NaN</td>\n",
       "      <td>4.20849</td>\n",
       "      <td>9.31444</td>\n",
       "      <td>-44.313</td>\n",
       "      <td>-0.393</td>\n",
       "      <td>0.34</td>\n",
       "      <td>1.347</td>\n",
       "      <td>4.32</td>\n",
       "      <td>40.7558</td>\n",
       "      <td>600.82</td>\n",
       "    </tr>\n",
       "    <tr>\n",
       "      <th>deltaprice_pre2_t1</th>\n",
       "      <td>543180</td>\n",
       "      <td>NaN</td>\n",
       "      <td>NaN</td>\n",
       "      <td>NaN</td>\n",
       "      <td>3.28374</td>\n",
       "      <td>48.8059</td>\n",
       "      <td>-2296</td>\n",
       "      <td>-103</td>\n",
       "      <td>-3</td>\n",
       "      <td>2</td>\n",
       "      <td>10</td>\n",
       "      <td>111</td>\n",
       "      <td>3324</td>\n",
       "    </tr>\n",
       "    <tr>\n",
       "      <th>lowestprice_pre</th>\n",
       "      <td>659689</td>\n",
       "      <td>NaN</td>\n",
       "      <td>NaN</td>\n",
       "      <td>NaN</td>\n",
       "      <td>315.955</td>\n",
       "      <td>463.724</td>\n",
       "      <td>1</td>\n",
       "      <td>38</td>\n",
       "      <td>118</td>\n",
       "      <td>208</td>\n",
       "      <td>385</td>\n",
       "      <td>1750</td>\n",
       "      <td>100000</td>\n",
       "    </tr>\n",
       "    <tr>\n",
       "      <th>uv_pre</th>\n",
       "      <td>660548</td>\n",
       "      <td>NaN</td>\n",
       "      <td>NaN</td>\n",
       "      <td>NaN</td>\n",
       "      <td>107.846</td>\n",
       "      <td>186.732</td>\n",
       "      <td>0.007</td>\n",
       "      <td>0.24</td>\n",
       "      <td>12.533</td>\n",
       "      <td>42.5</td>\n",
       "      <td>124.707</td>\n",
       "      <td>1047.79</td>\n",
       "      <td>1722.61</td>\n",
       "    </tr>\n",
       "    <tr>\n",
       "      <th>uv_pre2</th>\n",
       "      <td>661189</td>\n",
       "      <td>NaN</td>\n",
       "      <td>NaN</td>\n",
       "      <td>NaN</td>\n",
       "      <td>103.353</td>\n",
       "      <td>157.118</td>\n",
       "      <td>0.007</td>\n",
       "      <td>0.5</td>\n",
       "      <td>17.563</td>\n",
       "      <td>51.287</td>\n",
       "      <td>126.2</td>\n",
       "      <td>856.725</td>\n",
       "      <td>1722.61</td>\n",
       "    </tr>\n",
       "    <tr>\n",
       "      <th>lowestprice_pre2</th>\n",
       "      <td>660664</td>\n",
       "      <td>NaN</td>\n",
       "      <td>NaN</td>\n",
       "      <td>NaN</td>\n",
       "      <td>318.542</td>\n",
       "      <td>351.913</td>\n",
       "      <td>1</td>\n",
       "      <td>52</td>\n",
       "      <td>145</td>\n",
       "      <td>233</td>\n",
       "      <td>388</td>\n",
       "      <td>1464</td>\n",
       "      <td>43700</td>\n",
       "    </tr>\n",
       "    <tr>\n",
       "      <th>lasthtlordergap</th>\n",
       "      <td>447831</td>\n",
       "      <td>NaN</td>\n",
       "      <td>NaN</td>\n",
       "      <td>NaN</td>\n",
       "      <td>101831</td>\n",
       "      <td>122784</td>\n",
       "      <td>0</td>\n",
       "      <td>244</td>\n",
       "      <td>14999</td>\n",
       "      <td>46890</td>\n",
       "      <td>138953</td>\n",
       "      <td>484734</td>\n",
       "      <td>527026</td>\n",
       "    </tr>\n",
       "    <tr>\n",
       "      <th>businessrate_pre2</th>\n",
       "      <td>602960</td>\n",
       "      <td>NaN</td>\n",
       "      <td>NaN</td>\n",
       "      <td>NaN</td>\n",
       "      <td>0.368237</td>\n",
       "      <td>0.219945</td>\n",
       "      <td>0</td>\n",
       "      <td>0.01</td>\n",
       "      <td>0.17</td>\n",
       "      <td>0.4</td>\n",
       "      <td>0.55</td>\n",
       "      <td>0.78</td>\n",
       "      <td>0.99</td>\n",
       "    </tr>\n",
       "    <tr>\n",
       "      <th>cityuvs</th>\n",
       "      <td>682274</td>\n",
       "      <td>NaN</td>\n",
       "      <td>NaN</td>\n",
       "      <td>NaN</td>\n",
       "      <td>10.6483</td>\n",
       "      <td>15.6967</td>\n",
       "      <td>0.007</td>\n",
       "      <td>0.013</td>\n",
       "      <td>0.827</td>\n",
       "      <td>3.527</td>\n",
       "      <td>13.327</td>\n",
       "      <td>66.007</td>\n",
       "      <td>67.14</td>\n",
       "    </tr>\n",
       "    <tr>\n",
       "      <th>cityorders</th>\n",
       "      <td>651263</td>\n",
       "      <td>NaN</td>\n",
       "      <td>NaN</td>\n",
       "      <td>NaN</td>\n",
       "      <td>2.25325</td>\n",
       "      <td>3.53845</td>\n",
       "      <td>0.007</td>\n",
       "      <td>0.007</td>\n",
       "      <td>0.127</td>\n",
       "      <td>0.627</td>\n",
       "      <td>2.747</td>\n",
       "      <td>14.453</td>\n",
       "      <td>14.507</td>\n",
       "    </tr>\n",
       "    <tr>\n",
       "      <th>lastpvgap</th>\n",
       "      <td>592818</td>\n",
       "      <td>NaN</td>\n",
       "      <td>NaN</td>\n",
       "      <td>NaN</td>\n",
       "      <td>12049.4</td>\n",
       "      <td>25601.4</td>\n",
       "      <td>0</td>\n",
       "      <td>0</td>\n",
       "      <td>551</td>\n",
       "      <td>2848</td>\n",
       "      <td>10726</td>\n",
       "      <td>138722</td>\n",
       "      <td>194386</td>\n",
       "    </tr>\n",
       "    <tr>\n",
       "      <th>cr</th>\n",
       "      <td>457896</td>\n",
       "      <td>NaN</td>\n",
       "      <td>NaN</td>\n",
       "      <td>NaN</td>\n",
       "      <td>1.13748</td>\n",
       "      <td>0.204789</td>\n",
       "      <td>1</td>\n",
       "      <td>1</td>\n",
       "      <td>1</td>\n",
       "      <td>1.05</td>\n",
       "      <td>1.21</td>\n",
       "      <td>2</td>\n",
       "      <td>11</td>\n",
       "    </tr>\n",
       "    <tr>\n",
       "      <th>sid</th>\n",
       "      <td>689945</td>\n",
       "      <td>NaN</td>\n",
       "      <td>NaN</td>\n",
       "      <td>NaN</td>\n",
       "      <td>153.702</td>\n",
       "      <td>277.808</td>\n",
       "      <td>0</td>\n",
       "      <td>1</td>\n",
       "      <td>17</td>\n",
       "      <td>62</td>\n",
       "      <td>180</td>\n",
       "      <td>1212</td>\n",
       "      <td>9956</td>\n",
       "    </tr>\n",
       "    <tr>\n",
       "      <th>visitnum_oneyear</th>\n",
       "      <td>592910</td>\n",
       "      <td>NaN</td>\n",
       "      <td>NaN</td>\n",
       "      <td>NaN</td>\n",
       "      <td>18551.8</td>\n",
       "      <td>228860</td>\n",
       "      <td>1</td>\n",
       "      <td>21</td>\n",
       "      <td>471</td>\n",
       "      <td>1315</td>\n",
       "      <td>3141</td>\n",
       "      <td>262567</td>\n",
       "      <td>9.65119e+06</td>\n",
       "    </tr>\n",
       "    <tr>\n",
       "      <th>h</th>\n",
       "      <td>689945</td>\n",
       "      <td>NaN</td>\n",
       "      <td>NaN</td>\n",
       "      <td>NaN</td>\n",
       "      <td>14.4623</td>\n",
       "      <td>6.30158</td>\n",
       "      <td>0</td>\n",
       "      <td>0</td>\n",
       "      <td>11</td>\n",
       "      <td>15</td>\n",
       "      <td>20</td>\n",
       "      <td>23</td>\n",
       "      <td>23</td>\n",
       "    </tr>\n",
       "  </tbody>\n",
       "</table>\n",
       "</div>"
      ],
      "text/plain": [
       "                                   count unique         top    freq      mean  \\\n",
       "label                             689945    NaN         NaN     NaN  0.274452   \n",
       "sampleid                          689945    NaN         NaN     NaN    628540   \n",
       "d                                 689945      7  2016-05-20  111985       NaN   \n",
       "arrival                           689945     37  2016-05-20  110982       NaN   \n",
       "iforderpv_24h                     689945    NaN         NaN     NaN  0.193737   \n",
       "decisionhabit_user                385450    NaN         NaN     NaN   5.31705   \n",
       "historyvisit_totalordernum        386525    NaN         NaN     NaN   11.7105   \n",
       "hotelcr                           689148    NaN         NaN     NaN     1.061   \n",
       "ordercanceledprecent              447831    NaN         NaN     NaN  0.342119   \n",
       "landhalfhours                     661312    NaN         NaN     NaN   6.08637   \n",
       "ordercanncelednum                 447831    NaN         NaN     NaN   154.179   \n",
       "commentnums                       622029    NaN         NaN     NaN   1272.09   \n",
       "starprefer                        464892    NaN         NaN     NaN   67.5323   \n",
       "novoters                          672918    NaN         NaN     NaN   1706.25   \n",
       "consuming_capacity                463837    NaN         NaN     NaN   39.1541   \n",
       "historyvisit_avghotelnum          387876    NaN         NaN     NaN   6.51018   \n",
       "cancelrate                        678227    NaN         NaN     NaN    1051.6   \n",
       "historyvisit_visit_detailpagenum  307234    NaN         NaN     NaN   37.1536   \n",
       "delta_price1                      437146    NaN         NaN     NaN    79.067   \n",
       "price_sensitive                   463837    NaN         NaN     NaN   24.6459   \n",
       "hoteluv                           689148    NaN         NaN     NaN   95.0927   \n",
       "businessrate_pre                  483896    NaN         NaN     NaN  0.372717   \n",
       "ordernum_oneyear                  447831    NaN         NaN     NaN   11.6421   \n",
       "cr_pre                            660548    NaN         NaN     NaN   1.06291   \n",
       "avgprice                          457261    NaN         NaN     NaN   422.459   \n",
       "lowestprice                       687931    NaN         NaN     NaN   318.806   \n",
       "firstorder_bu                     376993    NaN         NaN     NaN   11.6978   \n",
       "customereval_pre2                 661312    NaN         NaN     NaN   3.04852   \n",
       "delta_price2                      437750    NaN         NaN     NaN   77.2772   \n",
       "commentnums_pre                   598368    NaN         NaN     NaN   1415.16   \n",
       "customer_value_profit             439123    NaN         NaN     NaN   3.03841   \n",
       "commentnums_pre2                  648457    NaN         NaN     NaN   1313.39   \n",
       "cancelrate_pre                    653015    NaN         NaN     NaN  0.344422   \n",
       "novoters_pre2                     657616    NaN         NaN     NaN    1787.2   \n",
       "novoters_pre                      648956    NaN         NaN     NaN    1890.7   \n",
       "ctrip_profits                     445187    NaN         NaN     NaN   4.20849   \n",
       "deltaprice_pre2_t1                543180    NaN         NaN     NaN   3.28374   \n",
       "lowestprice_pre                   659689    NaN         NaN     NaN   315.955   \n",
       "uv_pre                            660548    NaN         NaN     NaN   107.846   \n",
       "uv_pre2                           661189    NaN         NaN     NaN   103.353   \n",
       "lowestprice_pre2                  660664    NaN         NaN     NaN   318.542   \n",
       "lasthtlordergap                   447831    NaN         NaN     NaN    101831   \n",
       "businessrate_pre2                 602960    NaN         NaN     NaN  0.368237   \n",
       "cityuvs                           682274    NaN         NaN     NaN   10.6483   \n",
       "cityorders                        651263    NaN         NaN     NaN   2.25325   \n",
       "lastpvgap                         592818    NaN         NaN     NaN   12049.4   \n",
       "cr                                457896    NaN         NaN     NaN   1.13748   \n",
       "sid                               689945    NaN         NaN     NaN   153.702   \n",
       "visitnum_oneyear                  592910    NaN         NaN     NaN   18551.8   \n",
       "h                                 689945    NaN         NaN     NaN   14.4623   \n",
       "\n",
       "                                        std     min       1%     25%     50%  \\\n",
       "label                              0.446238       0        0       0       0   \n",
       "sampleid                             414681   24636  36205.9  312320  599637   \n",
       "d                                       NaN     NaN      NaN     NaN     NaN   \n",
       "arrival                                 NaN     NaN      NaN     NaN     NaN   \n",
       "iforderpv_24h                      0.395226       0        0       0       0   \n",
       "decisionhabit_user                  38.5245       0        1       2       3   \n",
       "historyvisit_totalordernum          17.2514       1        1       2       6   \n",
       "hotelcr                           0.0452643       1        1    1.03    1.05   \n",
       "ordercanceledprecent                0.35421       0        0       0    0.25   \n",
       "landhalfhours                       12.4132       0        0       0       0   \n",
       "ordercanncelednum                   398.457       0        0       0       2   \n",
       "commentnums                         2101.87       0        1     115     514   \n",
       "starprefer                          19.1751       0       20    53.3    69.4   \n",
       "novoters                            2811.69       1        1     157     692   \n",
       "consuming_capacity                  23.2401       0        8      22      33   \n",
       "historyvisit_avghotelnum            41.0453       0        1       2       4   \n",
       "cancelrate                          1509.07       1        2     137     503   \n",
       "historyvisit_visit_detailpagenum    73.4029       1        1       6      18   \n",
       "delta_price1                        512.943  -99879 -1227.55     -31      81   \n",
       "price_sensitive                     26.6856       0        0       5      16   \n",
       "hoteluv                             169.982   0.007    0.167  10.427   36.18   \n",
       "businessrate_pre                   0.232791       0     0.01    0.15    0.39   \n",
       "ordernum_oneyear                    17.1372       1        1       2       6   \n",
       "cr_pre                            0.0445878       1        1    1.03    1.06   \n",
       "avgprice                            290.853       1       91     232     350   \n",
       "lowestprice                         575.782      -3       37     116     200   \n",
       "firstorder_bu                       2.74682       1        3      12      13   \n",
       "customereval_pre2                   1.22664       0        0       2       3   \n",
       "delta_price2                        391.414  -43344     -949     -29      69   \n",
       "commentnums_pre                     2329.42       0        1     137     592   \n",
       "customer_value_profit               6.62528 -24.075 -0.29678   0.269   0.991   \n",
       "commentnums_pre2                    1719.51       0        3     270     768   \n",
       "cancelrate_pre                     0.179147       0     0.05    0.23    0.32   \n",
       "novoters_pre2                       2316.71       1        5     391    1054   \n",
       "novoters_pre                        3116.12       1        2     187     783   \n",
       "ctrip_profits                       9.31444 -44.313   -0.393    0.34   1.347   \n",
       "deltaprice_pre2_t1                  48.8059   -2296     -103      -3       2   \n",
       "lowestprice_pre                     463.724       1       38     118     208   \n",
       "uv_pre                              186.732   0.007     0.24  12.533    42.5   \n",
       "uv_pre2                             157.118   0.007      0.5  17.563  51.287   \n",
       "lowestprice_pre2                    351.913       1       52     145     233   \n",
       "lasthtlordergap                      122784       0      244   14999   46890   \n",
       "businessrate_pre2                  0.219945       0     0.01    0.17     0.4   \n",
       "cityuvs                             15.6967   0.007    0.013   0.827   3.527   \n",
       "cityorders                          3.53845   0.007    0.007   0.127   0.627   \n",
       "lastpvgap                           25601.4       0        0     551    2848   \n",
       "cr                                 0.204789       1        1       1    1.05   \n",
       "sid                                 277.808       0        1      17      62   \n",
       "visitnum_oneyear                     228860       1       21     471    1315   \n",
       "h                                   6.30158       0        0      11      15   \n",
       "\n",
       "                                      75%          99%          max  \n",
       "label                                   1            1            1  \n",
       "sampleid                           887460  2.22689e+06  2.23843e+06  \n",
       "d                                     NaN          NaN          NaN  \n",
       "arrival                               NaN          NaN          NaN  \n",
       "iforderpv_24h                           0            1            1  \n",
       "decisionhabit_user                      5           27         3167  \n",
       "historyvisit_totalordernum             14           82          711  \n",
       "hotelcr                              1.09         1.19         3.18  \n",
       "ordercanceledprecent                 0.57            1            1  \n",
       "landhalfhours                           4           48           49  \n",
       "ordercanncelednum                     153         1752        13475  \n",
       "commentnums                          1670         8796        34189  \n",
       "starprefer                           80.3          100          100  \n",
       "novoters                             2196        11576        45455  \n",
       "consuming_capacity                     51          100          100  \n",
       "historyvisit_avghotelnum                7           29         3167  \n",
       "cancelrate                           1373         6399        18930  \n",
       "historyvisit_visit_detailpagenum       44          262         6199  \n",
       "delta_price1                          226         1081         5398  \n",
       "price_sensitive                        33          100          100  \n",
       "hoteluv                           107.747      964.113      1722.61  \n",
       "businessrate_pre                     0.57          0.8         0.99  \n",
       "ordernum_oneyear                       14           81          711  \n",
       "cr_pre                               1.09         1.19         2.95  \n",
       "avgprice                              524         1491         6383  \n",
       "lowestprice                           380         1823       100000  \n",
       "firstorder_bu                          13           17           21  \n",
       "customereval_pre2                       4          5.5            6  \n",
       "delta_price2                          198         1018         5114  \n",
       "commentnums_pre                      1862         9732        34189  \n",
       "customer_value_profit               3.138       28.451      598.064  \n",
       "commentnums_pre2                     1780         7457        34189  \n",
       "cancelrate_pre                       0.42            1            1  \n",
       "novoters_pre2                        2413        10018        45436  \n",
       "novoters_pre                         2453        13839        45436  \n",
       "ctrip_profits                        4.32      40.7558       600.82  \n",
       "deltaprice_pre2_t1                     10          111         3324  \n",
       "lowestprice_pre                       385         1750       100000  \n",
       "uv_pre                            124.707      1047.79      1722.61  \n",
       "uv_pre2                             126.2      856.725      1722.61  \n",
       "lowestprice_pre2                      388         1464        43700  \n",
       "lasthtlordergap                    138953       484734       527026  \n",
       "businessrate_pre2                    0.55         0.78         0.99  \n",
       "cityuvs                            13.327       66.007        67.14  \n",
       "cityorders                          2.747       14.453       14.507  \n",
       "lastpvgap                           10726       138722       194386  \n",
       "cr                                   1.21            2           11  \n",
       "sid                                   180         1212         9956  \n",
       "visitnum_oneyear                     3141       262567  9.65119e+06  \n",
       "h                                      20           23           23  "
      ]
     },
     "execution_count": 22,
     "metadata": {},
     "output_type": "execute_result"
    }
   ],
   "source": [
    "data.describe([0.01,0.25,0.5,0.75,0.99],include='all').T"
   ]
  },
  {
   "cell_type": "markdown",
   "metadata": {},
   "source": [
    "**定义盖帽法处理异常值**"
   ]
  },
  {
   "cell_type": "code",
   "execution_count": 23,
   "metadata": {},
   "outputs": [
    {
     "data": {
      "text/html": [
       "<div>\n",
       "<style scoped>\n",
       "    .dataframe tbody tr th:only-of-type {\n",
       "        vertical-align: middle;\n",
       "    }\n",
       "\n",
       "    .dataframe tbody tr th {\n",
       "        vertical-align: top;\n",
       "    }\n",
       "\n",
       "    .dataframe thead th {\n",
       "        text-align: right;\n",
       "    }\n",
       "</style>\n",
       "<table border=\"1\" class=\"dataframe\">\n",
       "  <thead>\n",
       "    <tr style=\"text-align: right;\">\n",
       "      <th></th>\n",
       "      <th>count</th>\n",
       "      <th>mean</th>\n",
       "      <th>std</th>\n",
       "      <th>min</th>\n",
       "      <th>1%</th>\n",
       "      <th>25%</th>\n",
       "      <th>50%</th>\n",
       "      <th>75%</th>\n",
       "      <th>99%</th>\n",
       "      <th>max</th>\n",
       "    </tr>\n",
       "  </thead>\n",
       "  <tbody>\n",
       "    <tr>\n",
       "      <th>lowestprice</th>\n",
       "      <td>687931.0</td>\n",
       "      <td>318.806242</td>\n",
       "      <td>575.782415</td>\n",
       "      <td>-3.0</td>\n",
       "      <td>37.0</td>\n",
       "      <td>116.0</td>\n",
       "      <td>200.0</td>\n",
       "      <td>380.0</td>\n",
       "      <td>1823.0</td>\n",
       "      <td>100000.0</td>\n",
       "    </tr>\n",
       "    <tr>\n",
       "      <th>lowestprice_pre</th>\n",
       "      <td>659689.0</td>\n",
       "      <td>315.954583</td>\n",
       "      <td>463.723643</td>\n",
       "      <td>1.0</td>\n",
       "      <td>38.0</td>\n",
       "      <td>118.0</td>\n",
       "      <td>208.0</td>\n",
       "      <td>385.0</td>\n",
       "      <td>1750.0</td>\n",
       "      <td>100000.0</td>\n",
       "    </tr>\n",
       "  </tbody>\n",
       "</table>\n",
       "</div>"
      ],
      "text/plain": [
       "                    count        mean         std  min    1%    25%    50%  \\\n",
       "lowestprice      687931.0  318.806242  575.782415 -3.0  37.0  116.0  200.0   \n",
       "lowestprice_pre  659689.0  315.954583  463.723643  1.0  38.0  118.0  208.0   \n",
       "\n",
       "                   75%     99%       max  \n",
       "lowestprice      380.0  1823.0  100000.0  \n",
       "lowestprice_pre  385.0  1750.0  100000.0  "
      ]
     },
     "execution_count": 23,
     "metadata": {},
     "output_type": "execute_result"
    }
   ],
   "source": [
    "data.loc[:,['lowestprice','lowestprice_pre']].describe([0.01,0.25,0.5,0.75,0.99],include='all').T"
   ]
  },
  {
   "cell_type": "code",
   "execution_count": 24,
   "metadata": {},
   "outputs": [],
   "source": [
    "col_01 = ['lowestprice','lowestprice_pre'] # 偏态严重"
   ]
  },
  {
   "cell_type": "code",
   "execution_count": 25,
   "metadata": {},
   "outputs": [],
   "source": [
    "def block_lower(x):\n",
    "# x是输⼊入的Series对象,替换1%分位数\n",
    "    ql = x.quantile(.01)\n",
    "    out = x.mask(x<ql,ql)\n",
    "    return(out)\n",
    "\n",
    "def block_upper(x):\n",
    "# x是输⼊入的Series对象,l替换99%分位数\n",
    "    qu = x.quantile(.99)\n",
    "    out = x.mask(x>qu,qu)\n",
    "    return(out)"
   ]
  },
  {
   "cell_type": "code",
   "execution_count": 26,
   "metadata": {},
   "outputs": [],
   "source": [
    "data.loc[:,col_01]=data.loc[:,col_01].apply(block_upper)\n",
    "\n",
    "data.loc[:,col_01]=data.loc[:,col_01].apply(block_lower)"
   ]
  },
  {
   "cell_type": "code",
   "execution_count": 27,
   "metadata": {},
   "outputs": [
    {
     "data": {
      "text/html": [
       "<div>\n",
       "<style scoped>\n",
       "    .dataframe tbody tr th:only-of-type {\n",
       "        vertical-align: middle;\n",
       "    }\n",
       "\n",
       "    .dataframe tbody tr th {\n",
       "        vertical-align: top;\n",
       "    }\n",
       "\n",
       "    .dataframe thead th {\n",
       "        text-align: right;\n",
       "    }\n",
       "</style>\n",
       "<table border=\"1\" class=\"dataframe\">\n",
       "  <thead>\n",
       "    <tr style=\"text-align: right;\">\n",
       "      <th></th>\n",
       "      <th>count</th>\n",
       "      <th>mean</th>\n",
       "      <th>std</th>\n",
       "      <th>min</th>\n",
       "      <th>1%</th>\n",
       "      <th>25%</th>\n",
       "      <th>50%</th>\n",
       "      <th>75%</th>\n",
       "      <th>99%</th>\n",
       "      <th>max</th>\n",
       "    </tr>\n",
       "  </thead>\n",
       "  <tbody>\n",
       "    <tr>\n",
       "      <th>lowestprice</th>\n",
       "      <td>687931.0</td>\n",
       "      <td>305.025771</td>\n",
       "      <td>297.382838</td>\n",
       "      <td>37.0</td>\n",
       "      <td>37.0</td>\n",
       "      <td>116.0</td>\n",
       "      <td>200.0</td>\n",
       "      <td>380.0</td>\n",
       "      <td>1823.0</td>\n",
       "      <td>1823.0</td>\n",
       "    </tr>\n",
       "    <tr>\n",
       "      <th>lowestprice_pre</th>\n",
       "      <td>659689.0</td>\n",
       "      <td>304.439507</td>\n",
       "      <td>287.192512</td>\n",
       "      <td>38.0</td>\n",
       "      <td>38.0</td>\n",
       "      <td>118.0</td>\n",
       "      <td>208.0</td>\n",
       "      <td>385.0</td>\n",
       "      <td>1750.0</td>\n",
       "      <td>1750.0</td>\n",
       "    </tr>\n",
       "  </tbody>\n",
       "</table>\n",
       "</div>"
      ],
      "text/plain": [
       "                    count        mean         std   min    1%    25%    50%  \\\n",
       "lowestprice      687931.0  305.025771  297.382838  37.0  37.0  116.0  200.0   \n",
       "lowestprice_pre  659689.0  304.439507  287.192512  38.0  38.0  118.0  208.0   \n",
       "\n",
       "                   75%     99%     max  \n",
       "lowestprice      380.0  1823.0  1823.0  \n",
       "lowestprice_pre  385.0  1750.0  1750.0  "
      ]
     },
     "execution_count": 27,
     "metadata": {},
     "output_type": "execute_result"
    }
   ],
   "source": [
    "data.loc[:,['lowestprice','lowestprice_pre']].describe([0.01,0.25,0.5,0.75,0.99],include='all').T"
   ]
  },
  {
   "cell_type": "markdown",
   "metadata": {},
   "source": [
    "### 18 - 数据划分"
   ]
  },
  {
   "cell_type": "code",
   "execution_count": 28,
   "metadata": {},
   "outputs": [],
   "source": [
    "data_copy = data.copy(deep=True) # 备份数据,deep=True是深拷贝，同浅拷贝有所不同，他不会因为备份数据改变而改变"
   ]
  },
  {
   "cell_type": "markdown",
   "metadata": {},
   "source": [
    "运用切片选取数据"
   ]
  },
  {
   "cell_type": "code",
   "execution_count": 29,
   "metadata": {},
   "outputs": [],
   "source": [
    "X = data_copy.iloc[:,2:]\n",
    "y = data_copy.label"
   ]
  },
  {
   "cell_type": "code",
   "execution_count": 30,
   "metadata": {},
   "outputs": [],
   "source": [
    "Xtrain,Xtest,Ytrain,Ytest = train_test_split(X,y,test_size=0.3,random_state=666)"
   ]
  },
  {
   "cell_type": "markdown",
   "metadata": {},
   "source": [
    "### 19 - 特征筛选"
   ]
  },
  {
   "cell_type": "markdown",
   "metadata": {},
   "source": [
    "将不同类型的变量进行区别对待处理"
   ]
  },
  {
   "cell_type": "code",
   "execution_count": 31,
   "metadata": {},
   "outputs": [],
   "source": [
    "cols = X.columns.to_list()\n",
    "col_no = ['sid','iforderpv_24h','h'] #没有缺失值的特征\n",
    "col_clf = ['decisionhabit_user'] # 分类型变量\n",
    "col_neg = ['delta_price1','delta_price2','customer_value_profit'\n",
    "           ,'ctrip_profits','deltaprice_pre2_t1'] # 含有负数\n",
    "col_35 = ['firstorder_bu','decisionhabit_user','historyvisit_totalordernum'\n",
    " ,'historyvisit_avghotelnum','customer_value_profit','ctrip_profits','ordernum_oneyear'\n",
    " ,'lasthtlordergap','ordercanceledprecent','ordercanncelednum'] # 缺失35% —— 55%"
   ]
  },
  {
   "cell_type": "markdown",
   "metadata": {},
   "source": [
    "筛选方差大于100的列"
   ]
  },
  {
   "cell_type": "code",
   "execution_count": 32,
   "metadata": {},
   "outputs": [],
   "source": [
    "col_std = data.columns[data.describe(include='all').T['std'] >100].to_list() # std >100"
   ]
  },
  {
   "cell_type": "code",
   "execution_count": 33,
   "metadata": {},
   "outputs": [],
   "source": [
    "col_norm = list(set(cols)-set(col_clf + col_std + col_neg + col_no +col_35))"
   ]
  },
  {
   "cell_type": "markdown",
   "metadata": {},
   "source": [
    "通过remove删除列"
   ]
  },
  {
   "cell_type": "code",
   "execution_count": 34,
   "metadata": {},
   "outputs": [],
   "source": [
    "col_std.remove('delta_price1')\n",
    "col_std.remove('delta_price2')\n",
    "col_std.remove('sampleid')\n",
    "col_std.remove('lasthtlordergap')"
   ]
  },
  {
   "cell_type": "markdown",
   "metadata": {},
   "source": [
    "### 20 - 缺失值填补"
   ]
  },
  {
   "cell_type": "markdown",
   "metadata": {},
   "source": [
    "- 分类型变量用 '众数填补' —— col_clf\n",
    "- 含有负数的特征用 '中值填补' —— col_neg\n",
    "- std > 100 方差大于100的连续型变量用 '中值填补' —— col_std\n",
    "- 缺失35%——55%用 '常数 -1 填充' 单独做一类\n",
    "- 其余变量用 '均值填补' —— col_norm"
   ]
  },
  {
   "cell_type": "code",
   "execution_count": 35,
   "metadata": {},
   "outputs": [
    {
     "name": "stderr",
     "output_type": "stream",
     "text": [
      "/opt/anaconda3/lib/python3.8/site-packages/pandas/core/indexing.py:1717: SettingWithCopyWarning: \n",
      "A value is trying to be set on a copy of a slice from a DataFrame.\n",
      "Try using .loc[row_indexer,col_indexer] = value instead\n",
      "\n",
      "See the caveats in the documentation: https://pandas.pydata.org/pandas-docs/stable/user_guide/indexing.html#returning-a-view-versus-a-copy\n",
      "  isetter(loc, v)\n"
     ]
    }
   ],
   "source": [
    "Xtrain.loc[:,col_clf] = Xtrain.loc[:,col_clf].fillna(Xtrain.loc[:,col_clf].mode())"
   ]
  },
  {
   "cell_type": "code",
   "execution_count": 36,
   "metadata": {},
   "outputs": [],
   "source": [
    "Xtrain.loc[:,col_neg] = Xtrain.loc[:,col_neg].fillna(Xtrain.loc[:,col_neg].median())"
   ]
  },
  {
   "cell_type": "code",
   "execution_count": 37,
   "metadata": {},
   "outputs": [],
   "source": [
    "Xtrain.loc[:,col_std] = Xtrain.loc[:,col_std].fillna(Xtrain.loc[:,col_std].median())"
   ]
  },
  {
   "cell_type": "code",
   "execution_count": 38,
   "metadata": {},
   "outputs": [],
   "source": [
    "Xtrain.loc[:,col_norm] = Xtrain.loc[:,col_norm].fillna(Xtrain.loc[:,col_norm].mean())"
   ]
  },
  {
   "cell_type": "code",
   "execution_count": 39,
   "metadata": {},
   "outputs": [],
   "source": [
    "Xtrain.loc[:,col_35] = Xtrain.loc[:,col_35].fillna(-1)"
   ]
  },
  {
   "cell_type": "markdown",
   "metadata": {},
   "source": [
    "**检查缺失值填补情况**"
   ]
  },
  {
   "cell_type": "markdown",
   "metadata": {},
   "source": [
    "查看训练集合的缺失值情况"
   ]
  },
  {
   "cell_type": "code",
   "execution_count": 40,
   "metadata": {},
   "outputs": [
    {
     "data": {
      "text/plain": [
       "0"
      ]
     },
     "execution_count": 40,
     "metadata": {},
     "output_type": "execute_result"
    }
   ],
   "source": [
    "Xtrain.isna().any().sum()"
   ]
  },
  {
   "cell_type": "markdown",
   "metadata": {},
   "source": [
    "查看数据集合的缺失情况"
   ]
  },
  {
   "cell_type": "code",
   "execution_count": 41,
   "metadata": {},
   "outputs": [
    {
     "data": {
      "text/plain": [
       "43"
      ]
     },
     "execution_count": 41,
     "metadata": {},
     "output_type": "execute_result"
    }
   ],
   "source": [
    "Xtest.isna().any().sum()"
   ]
  },
  {
   "cell_type": "code",
   "execution_count": 42,
   "metadata": {},
   "outputs": [],
   "source": [
    "# 特征创造\n",
    "# ordernum_oneyear_train = Xtrain.loc[:,'ordernum_oneyear'].reset_index(drop=True)\n",
    "# ordernum_oneyear_test = Xtest.loc[:,'ordernum_oneyear'].reset_index(drop=True)\n",
    "# avgprice_train = Xtrain.loc[:,'avgprice'].reset_index(drop=True)\n",
    "# avgprice_test = Xtest.loc[:,'avgprice'].reset_index(drop=True)\n",
    "\n",
    "# M_train = ordernum_oneyear_train * avgprice_train\n",
    "\n",
    "# M_test = ordernum_oneyear_test * avgprice_test\n",
    "\n",
    "# M_train.to_csv('M_train.csv')\n",
    "# M_test.to_csv('M_test.csv')"
   ]
  },
  {
   "cell_type": "markdown",
   "metadata": {},
   "source": [
    "## 特征选择"
   ]
  },
  {
   "cell_type": "markdown",
   "metadata": {},
   "source": [
    "查看正负样本均衡与否"
   ]
  },
  {
   "cell_type": "code",
   "execution_count": 43,
   "metadata": {},
   "outputs": [
    {
     "data": {
      "text/plain": [
       "0    500588\n",
       "1    189357\n",
       "Name: label, dtype: int64"
      ]
     },
     "execution_count": 43,
     "metadata": {},
     "output_type": "execute_result"
    }
   ],
   "source": [
    "y.value_counts()"
   ]
  },
  {
   "cell_type": "markdown",
   "metadata": {},
   "source": [
    "### 方差过滤"
   ]
  },
  {
   "cell_type": "markdown",
   "metadata": {},
   "source": [
    "删除日期列"
   ]
  },
  {
   "cell_type": "code",
   "execution_count": 44,
   "metadata": {},
   "outputs": [],
   "source": [
    "Xtrain = Xtrain.drop(columns=['d', 'arrival'])\n",
    "Xtest = Xtest.drop(columns=['d', 'arrival'])"
   ]
  },
  {
   "cell_type": "markdown",
   "metadata": {},
   "source": [
    "方差过滤"
   ]
  },
  {
   "cell_type": "code",
   "execution_count": 45,
   "metadata": {},
   "outputs": [],
   "source": [
    "selector = VarianceThreshold()\n",
    "Xtrain_var0 = selector.fit(Xtrain).transform(Xtrain)"
   ]
  },
  {
   "cell_type": "markdown",
   "metadata": {},
   "source": [
    "过滤完后查看数据形状"
   ]
  },
  {
   "cell_type": "code",
   "execution_count": 46,
   "metadata": {},
   "outputs": [
    {
     "data": {
      "text/plain": [
       "(482961, 46)"
      ]
     },
     "execution_count": 46,
     "metadata": {},
     "output_type": "execute_result"
    }
   ],
   "source": [
    "Xtrain.shape"
   ]
  },
  {
   "cell_type": "code",
   "execution_count": 47,
   "metadata": {
    "scrolled": true
   },
   "outputs": [
    {
     "data": {
      "text/plain": [
       "(482961, 46)"
      ]
     },
     "execution_count": 47,
     "metadata": {},
     "output_type": "execute_result"
    }
   ],
   "source": [
    "Xtrain_var0.shape"
   ]
  },
  {
   "cell_type": "markdown",
   "metadata": {},
   "source": [
    "### F_检验"
   ]
  },
  {
   "cell_type": "code",
   "execution_count": 48,
   "metadata": {},
   "outputs": [],
   "source": [
    "F , pvalues_f = f_classif(Xtrain,Ytrain)"
   ]
  },
  {
   "cell_type": "markdown",
   "metadata": {},
   "source": [
    "查看F值"
   ]
  },
  {
   "cell_type": "code",
   "execution_count": 49,
   "metadata": {},
   "outputs": [
    {
     "data": {
      "text/plain": [
       "array([5.91193624e+03, 1.93995904e+00, 1.10748523e+04, 6.52588756e+03,\n",
       "       5.72616656e+03, 2.34402404e+02, 4.71035154e+03, 9.63228309e-01,\n",
       "       3.48993536e+01, 2.69161646e+00, 2.96230367e+02, 4.45001376e+00,\n",
       "       4.09092508e+01, 1.84634401e-01, 6.66912134e+02, 4.02901071e+00,\n",
       "       1.31726129e+03, 6.45113345e+03, 1.24045963e+04, 6.35625789e+03,\n",
       "       1.11075725e+02, 2.11018777e+03, 9.11616695e+02, 3.76655886e+02,\n",
       "       9.85304381e+02, 8.61980927e+00, 2.95985745e+03, 3.59246695e+01,\n",
       "       1.79738069e+02, 7.67313405e+00, 3.04910588e-02, 2.70403338e+03,\n",
       "       1.18798987e+01, 1.52209921e+03, 1.52800082e+03, 1.97523458e+03,\n",
       "       1.67256060e+03, 4.20295879e+02, 8.55081976e+03, 4.81856327e+03,\n",
       "       4.54167636e+03, 6.54280347e+01, 1.58147894e+04, 6.31860633e+01,\n",
       "       3.35011334e+02, 2.98914773e+03])"
      ]
     },
     "execution_count": 49,
     "metadata": {},
     "output_type": "execute_result"
    }
   ],
   "source": [
    "F"
   ]
  },
  {
   "cell_type": "markdown",
   "metadata": {},
   "source": [
    "查看p值"
   ]
  },
  {
   "cell_type": "code",
   "execution_count": 50,
   "metadata": {},
   "outputs": [
    {
     "data": {
      "text/plain": [
       "array([0.00000000e+000, 1.63673622e-001, 0.00000000e+000, 0.00000000e+000,\n",
       "       0.00000000e+000, 6.72579265e-053, 0.00000000e+000, 3.26375337e-001,\n",
       "       3.47427483e-009, 1.00878081e-001, 2.28516134e-066, 3.49014787e-002,\n",
       "       1.59609407e-010, 6.67420584e-001, 5.90640741e-147, 4.47247156e-002,\n",
       "       4.92139290e-288, 0.00000000e+000, 0.00000000e+000, 0.00000000e+000,\n",
       "       5.73245469e-026, 0.00000000e+000, 4.50308055e-200, 7.16278251e-084,\n",
       "       4.64497778e-216, 3.32542335e-003, 0.00000000e+000, 2.05240027e-009,\n",
       "       5.62279399e-041, 5.60511624e-003, 8.61380748e-001, 0.00000000e+000,\n",
       "       5.67478538e-004, 0.00000000e+000, 0.00000000e+000, 0.00000000e+000,\n",
       "       0.00000000e+000, 2.30633608e-093, 0.00000000e+000, 0.00000000e+000,\n",
       "       0.00000000e+000, 6.04130835e-016, 0.00000000e+000, 1.88475684e-015,\n",
       "       8.25479550e-075, 0.00000000e+000])"
      ]
     },
     "execution_count": 50,
     "metadata": {},
     "output_type": "execute_result"
    }
   ],
   "source": [
    "pvalues_f"
   ]
  },
  {
   "cell_type": "markdown",
   "metadata": {},
   "source": [
    "**与标签没有显著相关性的变量有7个**"
   ]
  },
  {
   "cell_type": "code",
   "execution_count": 51,
   "metadata": {},
   "outputs": [
    {
     "data": {
      "text/plain": [
       "7"
      ]
     },
     "execution_count": 51,
     "metadata": {},
     "output_type": "execute_result"
    }
   ],
   "source": [
    "(pvalues_f>0.01).sum()"
   ]
  },
  {
   "cell_type": "markdown",
   "metadata": {},
   "source": [
    "**剔除没有相关性的变量**"
   ]
  },
  {
   "cell_type": "code",
   "execution_count": 52,
   "metadata": {
    "scrolled": true
   },
   "outputs": [
    {
     "data": {
      "text/plain": [
       "['iforderpv_24h',\n",
       " 'historyvisit_totalordernum',\n",
       " 'hotelcr',\n",
       " 'ordercanceledprecent',\n",
       " 'landhalfhours',\n",
       " 'ordercanncelednum',\n",
       " 'starprefer',\n",
       " 'consuming_capacity',\n",
       " 'cancelrate',\n",
       " 'delta_price1',\n",
       " 'hoteluv',\n",
       " 'businessrate_pre',\n",
       " 'ordernum_oneyear',\n",
       " 'cr_pre',\n",
       " 'avgprice',\n",
       " 'lowestprice',\n",
       " 'firstorder_bu',\n",
       " 'customereval_pre2',\n",
       " 'delta_price2',\n",
       " 'commentnums_pre',\n",
       " 'customer_value_profit',\n",
       " 'commentnums_pre2',\n",
       " 'cancelrate_pre',\n",
       " 'novoters_pre2',\n",
       " 'ctrip_profits',\n",
       " 'deltaprice_pre2_t1',\n",
       " 'lowestprice_pre',\n",
       " 'uv_pre',\n",
       " 'uv_pre2',\n",
       " 'lowestprice_pre2',\n",
       " 'lasthtlordergap',\n",
       " 'businessrate_pre2',\n",
       " 'cityuvs',\n",
       " 'cityorders',\n",
       " 'lastpvgap',\n",
       " 'cr',\n",
       " 'sid',\n",
       " 'visitnum_oneyear',\n",
       " 'h']"
      ]
     },
     "execution_count": 52,
     "metadata": {},
     "output_type": "execute_result"
    }
   ],
   "source": [
    "col_f = list(Xtrain.columns[pvalues_f<0.01])\n",
    "col_f"
   ]
  },
  {
   "cell_type": "code",
   "execution_count": 53,
   "metadata": {},
   "outputs": [],
   "source": [
    "Xtrain = Xtrain.loc[:,col_f] # 通过切片筛选所需要的数据\n",
    "Xtest = Xtest.loc[:,col_f]"
   ]
  },
  {
   "cell_type": "markdown",
   "metadata": {},
   "source": [
    "重置索引"
   ]
  },
  {
   "cell_type": "code",
   "execution_count": 54,
   "metadata": {},
   "outputs": [],
   "source": [
    "Xtrain.index = range(Xtrain.shape[0]) # 重置索引\n",
    "Ytrain = Ytrain.reset_index(drop=True)\n",
    "Xtest.index = range(Xtest.shape[0]) # 重置索引\n",
    "\n",
    "Ytest = Ytest.reset_index(drop=True)"
   ]
  },
  {
   "cell_type": "markdown",
   "metadata": {},
   "source": [
    "### 嵌入法筛选特征"
   ]
  },
  {
   "cell_type": "code",
   "execution_count": 55,
   "metadata": {},
   "outputs": [
    {
     "name": "stderr",
     "output_type": "stream",
     "text": [
      "/opt/anaconda3/lib/python3.8/site-packages/sklearn/feature_selection/_base.py:79: UserWarning: No features were selected: either the data is too noisy or the selection test too strict.\n",
      "  warn(\"No features were selected: either the data is\"\n"
     ]
    }
   ],
   "source": [
    "# 初步探索\n",
    "RFC_clf = RFC(n_estimators=10,random_state=0)\n",
    "X_embedded = SelectFromModel(RFC_clf,threshold=0.05).fit_transform(Xtrain,Ytrain)"
   ]
  },
  {
   "cell_type": "markdown",
   "metadata": {},
   "source": [
    "**利用随机森林调出特征重要性**"
   ]
  },
  {
   "cell_type": "code",
   "execution_count": 56,
   "metadata": {},
   "outputs": [],
   "source": [
    "importance = RFC_clf.fit(Xtrain,Ytrain).feature_importances_"
   ]
  },
  {
   "cell_type": "markdown",
   "metadata": {},
   "source": [
    "同样，结束后查看下数据的形状"
   ]
  },
  {
   "cell_type": "code",
   "execution_count": 57,
   "metadata": {},
   "outputs": [
    {
     "data": {
      "text/plain": [
       "(482961, 39)"
      ]
     },
     "execution_count": 57,
     "metadata": {},
     "output_type": "execute_result"
    }
   ],
   "source": [
    "Xtrain.shape"
   ]
  },
  {
   "cell_type": "code",
   "execution_count": 58,
   "metadata": {},
   "outputs": [
    {
     "data": {
      "text/plain": [
       "(482961,)"
      ]
     },
     "execution_count": 58,
     "metadata": {},
     "output_type": "execute_result"
    }
   ],
   "source": [
    "Ytrain.shape"
   ]
  },
  {
   "cell_type": "markdown",
   "metadata": {},
   "source": [
    "**嵌入法画学习曲线**"
   ]
  },
  {
   "cell_type": "markdown",
   "metadata": {},
   "source": [
    "利用随机森林特征重要性属性feature_importances_定义阈值范围，以嵌入选择模型SelectFromModel为基础，通过交叉验证cross_val_score得到每个阈值下模型得分情况。"
   ]
  },
  {
   "cell_type": "code",
   "execution_count": 59,
   "metadata": {},
   "outputs": [
    {
     "name": "stdout",
     "output_type": "stream",
     "text": [
      "22:12:988578\n"
     ]
    },
    {
     "data": {
      "image/png": "[encoded data removed]",
      "text/plain": [
       "<Figure size 432x288 with 1 Axes>"
      ]
     },
     "metadata": {
      "needs_background": "light"
     },
     "output_type": "display_data"
    }
   ],
   "source": [
    "importance = RFC_clf.fit(Xtrain,Ytrain).feature_importances_\n",
    "threshold = np.linspace(0,importance.max(),20)\n",
    "score = []\n",
    "time0 = time()\n",
    "for i in threshold:\n",
    "    X_embedded = SelectFromModel(RFC_clf,threshold=i).fit_transform(Xtrain,Ytrain)\n",
    "    val = cross_val_score(RFC_clf,X_embedded,Ytrain,cv=5).mean()\n",
    "    score.append(val)\n",
    "print(datetime.datetime.fromtimestamp(time()-time0).strftime(\"%M:%S:%f\"))\n",
    "plt.plot(threshold,score)\n",
    "plt.show();"
   ]
  },
  {
   "cell_type": "code",
   "execution_count": 60,
   "metadata": {},
   "outputs": [
    {
     "data": {
      "text/plain": [
       "0.9453910343465477"
      ]
     },
     "execution_count": 60,
     "metadata": {},
     "output_type": "execute_result"
    }
   ],
   "source": [
    "np.max(score) #最高分"
   ]
  },
  {
   "cell_type": "markdown",
   "metadata": {},
   "source": [
    "最高分对应的重要性阈值"
   ]
  },
  {
   "cell_type": "code",
   "execution_count": 61,
   "metadata": {},
   "outputs": [
    {
     "data": {
      "text/plain": [
       "0.031000416340192495"
      ]
     },
     "execution_count": 61,
     "metadata": {},
     "output_type": "execute_result"
    }
   ],
   "source": [
    "threshold[np.argmax(score)]"
   ]
  },
  {
   "cell_type": "code",
   "execution_count": 62,
   "metadata": {},
   "outputs": [],
   "source": [
    "X_embedded = SelectFromModel(RFC_clf,threshold=0.031000416340192495).fit_transform(Xtrain,Ytrain)"
   ]
  },
  {
   "cell_type": "code",
   "execution_count": 63,
   "metadata": {},
   "outputs": [],
   "source": [
    "col_k = list(Xtrain.columns[RFC_clf.feature_importances_>0.031000416340192495])"
   ]
  },
  {
   "cell_type": "markdown",
   "metadata": {},
   "source": [
    "**利用阈值选择出 8 个特征**"
   ]
  },
  {
   "cell_type": "code",
   "execution_count": 64,
   "metadata": {},
   "outputs": [],
   "source": [
    "col_k_ = ['lasthtlordergap',\n",
    " 'cityorders',\n",
    " 'lastpvgap',\n",
    " 'cr',\n",
    " 'sid',\n",
    " 'visitnum_oneyear',\n",
    " 'h']"
   ]
  },
  {
   "cell_type": "markdown",
   "metadata": {},
   "source": [
    "将数组转行为DataFrame数据框"
   ]
  },
  {
   "cell_type": "code",
   "execution_count": 65,
   "metadata": {},
   "outputs": [
    {
     "data": {
      "text/html": [
       "<div>\n",
       "<style scoped>\n",
       "    .dataframe tbody tr th:only-of-type {\n",
       "        vertical-align: middle;\n",
       "    }\n",
       "\n",
       "    .dataframe tbody tr th {\n",
       "        vertical-align: top;\n",
       "    }\n",
       "\n",
       "    .dataframe thead th {\n",
       "        text-align: right;\n",
       "    }\n",
       "</style>\n",
       "<table border=\"1\" class=\"dataframe\">\n",
       "  <thead>\n",
       "    <tr style=\"text-align: right;\">\n",
       "      <th></th>\n",
       "      <th>lasthtlordergap</th>\n",
       "      <th>cityuvs</th>\n",
       "      <th>cityorders</th>\n",
       "      <th>lastpvgap</th>\n",
       "      <th>cr</th>\n",
       "      <th>sid</th>\n",
       "      <th>visitnum_oneyear</th>\n",
       "      <th>h</th>\n",
       "    </tr>\n",
       "  </thead>\n",
       "  <tbody>\n",
       "    <tr>\n",
       "      <th>0</th>\n",
       "      <td>713.0</td>\n",
       "      <td>5.387</td>\n",
       "      <td>0.680</td>\n",
       "      <td>312.0</td>\n",
       "      <td>1.14</td>\n",
       "      <td>111.0</td>\n",
       "      <td>2162.0</td>\n",
       "      <td>18.0</td>\n",
       "    </tr>\n",
       "    <tr>\n",
       "      <th>1</th>\n",
       "      <td>97890.0</td>\n",
       "      <td>3.853</td>\n",
       "      <td>0.027</td>\n",
       "      <td>3594.0</td>\n",
       "      <td>1.00</td>\n",
       "      <td>54.0</td>\n",
       "      <td>1397.0</td>\n",
       "      <td>22.0</td>\n",
       "    </tr>\n",
       "    <tr>\n",
       "      <th>2</th>\n",
       "      <td>4601.0</td>\n",
       "      <td>11.573</td>\n",
       "      <td>0.813</td>\n",
       "      <td>299.0</td>\n",
       "      <td>1.07</td>\n",
       "      <td>385.0</td>\n",
       "      <td>2881.0</td>\n",
       "      <td>15.0</td>\n",
       "    </tr>\n",
       "    <tr>\n",
       "      <th>3</th>\n",
       "      <td>-1.0</td>\n",
       "      <td>10.567</td>\n",
       "      <td>3.033</td>\n",
       "      <td>1273.0</td>\n",
       "      <td>1.00</td>\n",
       "      <td>37.0</td>\n",
       "      <td>1218.0</td>\n",
       "      <td>15.0</td>\n",
       "    </tr>\n",
       "    <tr>\n",
       "      <th>4</th>\n",
       "      <td>52076.0</td>\n",
       "      <td>0.160</td>\n",
       "      <td>0.013</td>\n",
       "      <td>31216.0</td>\n",
       "      <td>2.00</td>\n",
       "      <td>61.0</td>\n",
       "      <td>318.0</td>\n",
       "      <td>5.0</td>\n",
       "    </tr>\n",
       "  </tbody>\n",
       "</table>\n",
       "</div>"
      ],
      "text/plain": [
       "   lasthtlordergap  cityuvs  cityorders  lastpvgap    cr    sid  \\\n",
       "0            713.0    5.387       0.680      312.0  1.14  111.0   \n",
       "1          97890.0    3.853       0.027     3594.0  1.00   54.0   \n",
       "2           4601.0   11.573       0.813      299.0  1.07  385.0   \n",
       "3             -1.0   10.567       3.033     1273.0  1.00   37.0   \n",
       "4          52076.0    0.160       0.013    31216.0  2.00   61.0   \n",
       "\n",
       "   visitnum_oneyear     h  \n",
       "0            2162.0  18.0  \n",
       "1            1397.0  22.0  \n",
       "2            2881.0  15.0  \n",
       "3            1218.0  15.0  \n",
       "4             318.0   5.0  "
      ]
     },
     "execution_count": 65,
     "metadata": {},
     "output_type": "execute_result"
    }
   ],
   "source": [
    "Xtrain_new = pd.DataFrame(X_embedded,columns = col_k )\n",
    "Xtrain_new.head()"
   ]
  },
  {
   "cell_type": "markdown",
   "metadata": {},
   "source": [
    "通过切片索引需要的列，重置索引，并查看前5行"
   ]
  },
  {
   "cell_type": "code",
   "execution_count": 66,
   "metadata": {},
   "outputs": [],
   "source": [
    "Xtest_new = Xtest.loc[:,col_k_].reset_index(drop=True).head()"
   ]
  },
  {
   "cell_type": "markdown",
   "metadata": {},
   "source": [
    "查看每个列之间的相关性"
   ]
  },
  {
   "cell_type": "markdown",
   "metadata": {},
   "source": [
    "**过滤高度相关的特征**\n",
    "热图用于特征间的相关性分析，通过绘制热图，分析发现有以下两个高度相关的变量，最终删除特征cityuvs。"
   ]
  },
  {
   "cell_type": "code",
   "execution_count": 67,
   "metadata": {},
   "outputs": [
    {
     "data": {
      "text/plain": [
       "<AxesSubplot:>"
      ]
     },
     "execution_count": 67,
     "metadata": {},
     "output_type": "execute_result"
    },
    {
     "data": {
      "image/png": "[encoded data removed]",
      "text/plain": [
       "<Figure size 720x576 with 2 Axes>"
      ]
     },
     "metadata": {
      "needs_background": "light"
     },
     "output_type": "display_data"
    }
   ],
   "source": [
    "plt.figure(figsize=(10,8))\n",
    "sns.heatmap(Xtrain_new.corr(),annot=True,linewidths=1)"
   ]
  },
  {
   "cell_type": "markdown",
   "metadata": {},
   "source": [
    "发现cityorders 与 cityuvs 高度相关，删除其中一个列"
   ]
  },
  {
   "cell_type": "code",
   "execution_count": null,
   "metadata": {},
   "outputs": [],
   "source": [
    "Xtrain_new.drop(columns='cityuvs',axis=1,inplace=True)\n",
    "Xtest_new.drop(columns='cityuvs',axis=1,inplace=True)"
   ]
  },
  {
   "cell_type": "markdown",
   "metadata": {},
   "source": [
    "**保存清洗后的数据**"
   ]
  },
  {
   "cell_type": "code",
   "execution_count": null,
   "metadata": {},
   "outputs": [],
   "source": [
    "Xtrain_new.to_csv('Xtrain_new.csv')\n",
    "Xtest_new.to_csv('Xtest_new.csv')\n",
    "Ytrain.to_csv('Ytrain.csv')\n",
    "Ytest.to_csv('Ytest.csv')"
   ]
  },
  {
   "cell_type": "markdown",
   "metadata": {},
   "source": [
    "## 建模与调参"
   ]
  },
  {
   "cell_type": "markdown",
   "metadata": {},
   "source": [
    "### 弱评估器选择"
   ]
  },
  {
   "cell_type": "code",
   "execution_count": 50,
   "metadata": {},
   "outputs": [
    {
     "name": "stdout",
     "output_type": "stream",
     "text": [
      "23:04:214531\n",
      "0.7180918548591728 0\n"
     ]
    },
    {
     "data": {
      "image/png": "[encoded data removed]",
      "text/plain": [
       "<Figure size 576x432 with 1 Axes>"
      ]
     },
     "metadata": {
      "needs_background": "light"
     },
     "output_type": "display_data"
    }
   ],
   "source": [
    "score = []\n",
    "time0 = time()\n",
    "for i in range(10,201,10):\n",
    "    rfc = RFC(n_estimators= i\n",
    "             ,max_depth=3\n",
    "             ,random_state=0)\n",
    "    score_ = cross_val_score(rfc,Xtrain_new,ytrain,cv=5).mean()\n",
    "    score.append(score_)\n",
    "print(datetime.datetime.fromtimestamp(time()-time0).strftime(\"%M:%S:%f\"))\n",
    "print(max(score),np.argmax(score))\n",
    "plt.figure(figsize=(8,6))\n",
    "plt.plot(range(10,201,10),score)\n",
    "plt.show();"
   ]
  },
  {
   "cell_type": "markdown",
   "metadata": {},
   "source": [
    "### 最大深度选择"
   ]
  },
  {
   "cell_type": "code",
   "execution_count": 79,
   "metadata": {},
   "outputs": [
    {
     "name": "stdout",
     "output_type": "stream",
     "text": [
      "05:41:132984\n",
      "得分： 0.8939818849773287 最大深度： 20\n"
     ]
    },
    {
     "data": {
      "image/png": "[encoded data removed]",
      "text/plain": [
       "<Figure size 576x432 with 1 Axes>"
      ]
     },
     "metadata": {
      "needs_background": "light"
     },
     "output_type": "display_data"
    }
   ],
   "source": [
    "score = []\n",
    "time0 = time()\n",
    "for i in np.arange(3, 21, 1):\n",
    "    rfc = RFC(n_estimators= 10\n",
    "             ,max_depth= i\n",
    "             ,random_state=0)\n",
    "    score_ = cross_val_score(rfc,Xtrain_new,ytrain,cv=5).mean()\n",
    "    score.append(score_)\n",
    "print(datetime.datetime.fromtimestamp(time()-time0).strftime(\"%M:%S:%f\"))\n",
    "print('得分：',max(score),'最大深度：',np.arange(3, 21, 1)[np.argmax(score)])\n",
    "plt.figure(figsize=(8,6))\n",
    "plt.plot(np.arange(3, 21, 1),score)\n",
    "plt.show();"
   ]
  },
  {
   "cell_type": "markdown",
   "metadata": {},
   "source": [
    "### 最小分割样本数选择"
   ]
  },
  {
   "cell_type": "code",
   "execution_count": 80,
   "metadata": {},
   "outputs": [
    {
     "name": "stdout",
     "output_type": "stream",
     "text": [
      "08:21:638368\n",
      "得分： 0.8066083426188453 最小分支数： 2\n"
     ]
    },
    {
     "data": {
      "image/png": "[encoded data removed]",
      "text/plain": [
       "<Figure size 576x432 with 1 Axes>"
      ]
     },
     "metadata": {
      "needs_background": "light"
     },
     "output_type": "display_data"
    }
   ],
   "source": [
    "score_2 = []\n",
    "time0 = time()\n",
    "for i in np.arange(2, 22, 1):\n",
    "    rfc = RFC(n_estimators= 10\n",
    "             ,max_depth= 15\n",
    "             ,min_samples_split= i\n",
    "             ,random_state=0)\n",
    "    score_ = cross_val_score(rfc,Xtrain_new,ytrain,cv=5).mean()\n",
    "    score_2.append(score_)\n",
    "print(datetime.datetime.fromtimestamp(time()-time0).strftime(\"%M:%S:%f\"))\n",
    "print('得分：',max(score_2),'最小分支数：',np.arange(2, 22, 1)[np.argmax(score_2)])\n",
    "plt.figure(figsize=(8,6))\n",
    "plt.plot(np.arange(2, 22, 1),score_2)\n",
    "plt.show();"
   ]
  },
  {
   "cell_type": "markdown",
   "metadata": {},
   "source": [
    "### 最小叶子结点样本数选择"
   ]
  },
  {
   "cell_type": "code",
   "execution_count": 81,
   "metadata": {},
   "outputs": [
    {
     "name": "stdout",
     "output_type": "stream",
     "text": [
      "04:14:709608\n",
      "得分： 0.8066083426188453 最小叶子数： 1\n"
     ]
    },
    {
     "data": {
      "image/png": "[encoded data removed]",
      "text/plain": [
       "<Figure size 576x432 with 1 Axes>"
      ]
     },
     "metadata": {
      "needs_background": "light"
     },
     "output_type": "display_data"
    }
   ],
   "source": [
    "score_3 = []\n",
    "time0 = time()\n",
    "for i in np.arange(1, 12, 1):\n",
    "    rfc = RFC(n_estimators= 10\n",
    "             ,max_depth= 15\n",
    "             ,min_samples_split= 2\n",
    "             ,min_samples_leaf = i\n",
    "             ,random_state=0)\n",
    "    score_ = cross_val_score(rfc,Xtrain_new,ytrain,cv=5).mean()\n",
    "    score_3.append(score_)\n",
    "print(datetime.datetime.fromtimestamp(time()-time0).strftime(\"%M:%S:%f\"))\n",
    "print('得分：',max(score_3),'最小叶子数：',np.arange(1, 12, 1)[np.argmax(score_3)])\n",
    "plt.figure(figsize=(8,6))\n",
    "plt.plot(np.arange(1, 12, 1),score_3)\n",
    "plt.show();"
   ]
  },
  {
   "cell_type": "markdown",
   "metadata": {},
   "source": [
    "### 最小评估器再次选择"
   ]
  },
  {
   "cell_type": "code",
   "execution_count": 102,
   "metadata": {},
   "outputs": [
    {
     "name": "stdout",
     "output_type": "stream",
     "text": [
      "31:49:492826\n",
      "0.9043809229615084 最佳分类器数： 180\n"
     ]
    },
    {
     "data": {
      "image/png": "[encoded data removed]",
      "text/plain": [
       "<Figure size 576x432 with 1 Axes>"
      ]
     },
     "metadata": {
      "needs_background": "light"
     },
     "output_type": "display_data"
    }
   ],
   "source": [
    "score_4 = []\n",
    "time0 = time()\n",
    "for i in range(10,201,10):\n",
    "    rfc = RFC(n_estimators= i\n",
    "             ,max_depth=20\n",
    "             ,random_state=0)\n",
    "    score_ = cross_val_score(rfc,Xtrain_new,ytrain,cv=5).mean()\n",
    "    score_4.append(score_)\n",
    "print(datetime.datetime.fromtimestamp(time()-time0).strftime(\"%H:%M:%S\"))\n",
    "print(max(score_4),'最佳分类器数：',range(10,201,10)[np.argmax(score_4)])\n",
    "plt.figure(figsize=(8,6))\n",
    "plt.plot(range(10,201,10),score_4)\n",
    "plt.show();\n",
    "# 运行1个半小时"
   ]
  },
  {
   "cell_type": "markdown",
   "metadata": {},
   "source": [
    "### 确定参数"
   ]
  },
  {
   "cell_type": "code",
   "execution_count": 106,
   "metadata": {},
   "outputs": [],
   "source": [
    "clf = RFC(n_estimators=180\n",
    "         ,max_depth=15\n",
    "         ,min_samples_leaf=1\n",
    "         ,min_samples_split=2\n",
    "         ,random_state=0\n",
    "         )\n",
    "clf = clf.fit(Xtrain_new,ytrain)"
   ]
  },
  {
   "cell_type": "markdown",
   "metadata": {},
   "source": [
    "查看训练集和测试集的分数"
   ]
  },
  {
   "cell_type": "code",
   "execution_count": 107,
   "metadata": {},
   "outputs": [
    {
     "data": {
      "text/plain": [
       "0.8311662235362908"
      ]
     },
     "execution_count": 107,
     "metadata": {},
     "output_type": "execute_result"
    }
   ],
   "source": [
    "clf.score(Xtrain_new,ytrain)"
   ]
  },
  {
   "cell_type": "code",
   "execution_count": 108,
   "metadata": {},
   "outputs": [
    {
     "data": {
      "text/plain": [
       "0.8119391458799907"
      ]
     },
     "execution_count": 108,
     "metadata": {},
     "output_type": "execute_result"
    }
   ],
   "source": [
    "clf.score(Xtest_new,ytest)"
   ]
  },
  {
   "cell_type": "code",
   "execution_count": 109,
   "metadata": {},
   "outputs": [],
   "source": [
    " clf = RFC(n_estimators=180\n",
    "         ,max_depth=20\n",
    "         ,min_samples_leaf=1\n",
    "         ,min_samples_split=2\n",
    "         ,random_state=0\n",
    "         )\n",
    "clf = clf.fit(Xtrain_new,ytrain)"
   ]
  },
  {
   "cell_type": "code",
   "execution_count": 110,
   "metadata": {},
   "outputs": [
    {
     "data": {
      "text/plain": [
       "0.9425305870282317"
      ]
     },
     "execution_count": 110,
     "metadata": {},
     "output_type": "execute_result"
    }
   ],
   "source": [
    "clf.score(Xtrain_new,ytrain)"
   ]
  },
  {
   "cell_type": "code",
   "execution_count": 111,
   "metadata": {},
   "outputs": [
    {
     "data": {
      "text/plain": [
       "0.9049398923983833"
      ]
     },
     "execution_count": 111,
     "metadata": {},
     "output_type": "execute_result"
    }
   ],
   "source": [
    "clf.score(Xtest_new,ytest)"
   ]
  },
  {
   "cell_type": "markdown",
   "metadata": {},
   "source": [
    "另一种方法使用网格搜素，但不建议使用，耗时特别长"
   ]
  },
  {
   "cell_type": "code",
   "execution_count": null,
   "metadata": {},
   "outputs": [],
   "source": [
    "# from sklearn.model_selection import GridSearchCV \n",
    "# time0 = time()\n",
    "# rfc = RFC(n_estimators= 10\n",
    "#           ,random_state=0)\n",
    "# GS = GridSearchCV(rfc,param_grid,cv=5)\n",
    "# GS.fit(Xtrain_new,ytrain)\n",
    "# print('最佳参数：',GS.best_params_)\n",
    "# print('最高得分：',GS.best_score_)\n",
    "# print(datetime.datetime.fromtimestamp(time()-time0).strftime(\"%H:%M:%S\"))"
   ]
  },
  {
   "cell_type": "markdown",
   "metadata": {},
   "source": [
    "查看特征重要性"
   ]
  },
  {
   "cell_type": "code",
   "execution_count": 112,
   "metadata": {},
   "outputs": [
    {
     "data": {
      "text/plain": [
       "array([0.12778966, 0.13655849, 0.12457015, 0.13714743, 0.10208397,\n",
       "       0.13347588, 0.14272563, 0.09564879])"
      ]
     },
     "execution_count": 112,
     "metadata": {},
     "output_type": "execute_result"
    }
   ],
   "source": [
    "clf.feature_importances_"
   ]
  },
  {
   "cell_type": "markdown",
   "metadata": {},
   "source": [
    "定义函数绘制AUC曲线"
   ]
  },
  {
   "cell_type": "code",
   "execution_count": 116,
   "metadata": {},
   "outputs": [
    {
     "data": {
      "image/png": "[encoded data removed]",
      "text/plain": [
       "<Figure size 504x396 with 1 Axes>"
      ]
     },
     "metadata": {
      "needs_background": "light"
     },
     "output_type": "display_data"
    }
   ],
   "source": [
    "model = RFC(n_estimators=180\n",
    "         ,max_depth=20\n",
    "         ,min_samples_leaf=1\n",
    "         ,min_samples_split=2\n",
    "         ,random_state=0\n",
    "         )\n",
    "# ROC\n",
    "y_score = model.fit(Xtrain_new, ytrain).predict_proba(Xtest_new)  # 随机森林\n",
    "fpr, tpr, thresholds = roc_curve(ytest, y_score[:, 1])\n",
    "roc_auc = auc(fpr, tpr)\n",
    "def drawRoc(roc_auc,fpr,tpr):\n",
    "    plt.subplots(figsize=(7, 5.5))\n",
    "    plt.plot(fpr, tpr, color='darkorange', lw=2, label='ROC curve (area = %0.2f)' % roc_auc)\n",
    "    plt.plot([0, 1], [0, 1], color='navy', lw=2, linestyle='--')\n",
    "    plt.xlim([0.0, 1.0])\n",
    "    plt.ylim([0.0, 1.05])\n",
    "    plt.xlabel('False Positive Rate')\n",
    "    plt.ylabel('True Positive Rate')\n",
    "    plt.title('ROC Curve')\n",
    "    plt.legend(loc=\"lower right\")\n",
    "    plt.show()\n",
    "drawRoc(roc_auc, fpr, tpr)"
   ]
  },
  {
   "cell_type": "code",
   "execution_count": null,
   "metadata": {},
   "outputs": [],
   "source": []
  },
  {
   "cell_type": "code",
   "execution_count": null,
   "metadata": {},
   "outputs": [],
   "source": []
  },
  {
   "cell_type": "markdown",
   "metadata": {},
   "source": [
    " "
   ]
  },
  {
   "cell_type": "markdown",
   "metadata": {},
   "source": [
    "公众号【数据STUDIO】以Python为核心语言，垂直于数据科学领域，分享大量知识总结及实战项目经验分享，包括数据分析、可视化、机器学习、数据挖掘等领域，从入门到进阶！每篇文章源数据和源码均可免费获取！\n",
    "\n",
    "![数据STUDIO](http://liuzaoqi.oss-cn-beijing.aliyuncs.com/2021/09/17/shu-justudio.jpg?域名/sample.jpg?x-oss-process=style/stylename)"
   ]
  },
  {
   "cell_type": "markdown",
   "metadata": {},
   "source": [
    "![](http://liuzaoqi.oss-cn-beijing.aliyuncs.com/2021/09/16/16317972442543.jpg?域名/sample.jpg?x-oss-process=style/stylename)"
   ]
  }
 ],
 "metadata": {
  "kernelspec": {
   "display_name": "Python 3",
   "language": "python",
   "name": "python3"
  },
  "language_info": {
   "codemirror_mode": {
    "name": "ipython",
    "version": 3
   },
   "file_extension": ".py",
   "mimetype": "text/x-python",
   "name": "python",
   "nbconvert_exporter": "python",
   "pygments_lexer": "ipython3",
   "version": "3.8.5"
  },
  "toc": {
   "base_numbering": 1,
   "nav_menu": {},
   "number_sections": false,
   "sideBar": true,
   "skip_h1_title": false,
   "title_cell": "Table of Contents",
   "title_sidebar": "Contents",
   "toc_cell": false,
   "toc_position": {
    "height": "calc(100% - 180px)",
    "left": "10px",
    "top": "150px",
    "width": "288px"
   },
   "toc_section_display": true,
   "toc_window_display": false
  }
 },
 "nbformat": 4,
 "nbformat_minor": 2
}
